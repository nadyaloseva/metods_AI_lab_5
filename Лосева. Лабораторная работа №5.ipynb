{
 "cells": [
  {
   "cell_type": "markdown",
   "metadata": {},
   "source": [
    "## Лабораторная работа №5 по курсу «Методы искусственного интеллекта»\n",
    "## «Обработка текстов на естественном языке»"
   ]
  },
  {
   "cell_type": "markdown",
   "metadata": {},
   "source": [
    "### 1. Лингвистический анализ:\n",
    "    1.1.  Используя синтаксический анализатор в составе библиотеки natasha, доработать процедуру выделения основ предложений, чтобы она работала и со сложными предложениями (выделяла все основы сложносочиненных и сложноподчиненных предложений).\n"
   ]
  },
  {
   "cell_type": "code",
   "execution_count": 2,
   "metadata": {},
   "outputs": [],
   "source": [
    "import natasha\n",
    "import pymorphy2  # библиотека для морфологического анализа русского языка\n",
    "                  # является одной из зависимостей natasha\n",
    "import pandas as pd"
   ]
  },
  {
   "cell_type": "code",
   "execution_count": 3,
   "metadata": {},
   "outputs": [
    {
     "data": {
      "text/html": [
       "<div>\n",
       "<style scoped>\n",
       "    .dataframe tbody tr th:only-of-type {\n",
       "        vertical-align: middle;\n",
       "    }\n",
       "\n",
       "    .dataframe tbody tr th {\n",
       "        vertical-align: top;\n",
       "    }\n",
       "\n",
       "    .dataframe thead th {\n",
       "        text-align: right;\n",
       "    }\n",
       "</style>\n",
       "<table border=\"1\" class=\"dataframe\">\n",
       "  <thead>\n",
       "    <tr style=\"text-align: right;\">\n",
       "      <th></th>\n",
       "      <th>url</th>\n",
       "      <th>title</th>\n",
       "      <th>text</th>\n",
       "      <th>topic</th>\n",
       "      <th>tags</th>\n",
       "      <th>date</th>\n",
       "    </tr>\n",
       "  </thead>\n",
       "  <tbody>\n",
       "    <tr>\n",
       "      <th>0</th>\n",
       "      <td>https://lenta.ru/news/1999/10/04/tv/</td>\n",
       "      <td>Телеканалы станут вещать по единому тарифу</td>\n",
       "      <td>С 1 января 2000 года все телеканалы будут опла...</td>\n",
       "      <td>Экономика</td>\n",
       "      <td>Все</td>\n",
       "      <td>1999/10/04</td>\n",
       "    </tr>\n",
       "    <tr>\n",
       "      <th>1</th>\n",
       "      <td>https://lenta.ru/news/1999/10/04/volkswagen/</td>\n",
       "      <td>Volkswagen выкупает остатки акций \"Шкоды\"</td>\n",
       "      <td>Германский автопромышленный концерн Volkswagen...</td>\n",
       "      <td>Экономика</td>\n",
       "      <td>Все</td>\n",
       "      <td>1999/10/04</td>\n",
       "    </tr>\n",
       "    <tr>\n",
       "      <th>2</th>\n",
       "      <td>https://lenta.ru/news/1999/10/04/tumen/</td>\n",
       "      <td>Прибыль Тюменнефтегаза возросла в 10 раз</td>\n",
       "      <td>Нераспределенная прибыль ОАО \"Тюменнефтегаз\", ...</td>\n",
       "      <td>Экономика</td>\n",
       "      <td>Все</td>\n",
       "      <td>1999/10/04</td>\n",
       "    </tr>\n",
       "    <tr>\n",
       "      <th>3</th>\n",
       "      <td>https://lenta.ru/news/1999/10/05/sprint/</td>\n",
       "      <td>Крупнейшее в истории слияние компаний происход...</td>\n",
       "      <td>Две крупнейших телекоммуникационных компании С...</td>\n",
       "      <td>Экономика</td>\n",
       "      <td>Все</td>\n",
       "      <td>1999/10/05</td>\n",
       "    </tr>\n",
       "    <tr>\n",
       "      <th>4</th>\n",
       "      <td>https://lenta.ru/news/1999/10/05/volga/</td>\n",
       "      <td>ГАЗ получил четверть обещанного кредита</td>\n",
       "      <td>ОАО \"ГАЗ\" и Нижегородский банк Сбербанка Росси...</td>\n",
       "      <td>Экономика</td>\n",
       "      <td>Все</td>\n",
       "      <td>1999/10/05</td>\n",
       "    </tr>\n",
       "  </tbody>\n",
       "</table>\n",
       "</div>"
      ],
      "text/plain": [
       "                                            url  \\\n",
       "0          https://lenta.ru/news/1999/10/04/tv/   \n",
       "1  https://lenta.ru/news/1999/10/04/volkswagen/   \n",
       "2       https://lenta.ru/news/1999/10/04/tumen/   \n",
       "3      https://lenta.ru/news/1999/10/05/sprint/   \n",
       "4       https://lenta.ru/news/1999/10/05/volga/   \n",
       "\n",
       "                                               title  \\\n",
       "0         Телеканалы станут вещать по единому тарифу   \n",
       "1          Volkswagen выкупает остатки акций \"Шкоды\"   \n",
       "2           Прибыль Тюменнефтегаза возросла в 10 раз   \n",
       "3  Крупнейшее в истории слияние компаний происход...   \n",
       "4            ГАЗ получил четверть обещанного кредита   \n",
       "\n",
       "                                                text      topic tags  \\\n",
       "0  С 1 января 2000 года все телеканалы будут опла...  Экономика  Все   \n",
       "1  Германский автопромышленный концерн Volkswagen...  Экономика  Все   \n",
       "2  Нераспределенная прибыль ОАО \"Тюменнефтегаз\", ...  Экономика  Все   \n",
       "3  Две крупнейших телекоммуникационных компании С...  Экономика  Все   \n",
       "4  ОАО \"ГАЗ\" и Нижегородский банк Сбербанка Росси...  Экономика  Все   \n",
       "\n",
       "         date  \n",
       "0  1999/10/04  \n",
       "1  1999/10/04  \n",
       "2  1999/10/04  \n",
       "3  1999/10/05  \n",
       "4  1999/10/05  "
      ]
     },
     "execution_count": 3,
     "metadata": {},
     "output_type": "execute_result"
    }
   ],
   "source": [
    "df = pd.read_csv(r\"C:\\Users\\User\\Downloads\\lenta\\lenta\\lenta-subset.csv\")\n",
    "df.head(5)"
   ]
  },
  {
   "cell_type": "markdown",
   "metadata": {},
   "source": [
    "**Токенизация**\n",
    "\n",
    "Последовательность обработки документа с помощью библиотеки natasha строится вокруг концепции документ (класс Doc). Изначально документ представляет собой простой текст, но по мере применения различных алгоритмов лингвистического анализа он \"обрастает\" новыми деталями, касающимися того или иного аспекта."
   ]
  },
  {
   "cell_type": "code",
   "execution_count": 4,
   "metadata": {},
   "outputs": [],
   "source": [
    "doc = natasha.Doc(df.iloc[4].text)"
   ]
  },
  {
   "cell_type": "markdown",
   "metadata": {},
   "source": [
    "В библиотеке natasha за токенизацию отвечает компонент Segmenter. Создадим экземпляр компонента сегментации и применим его к тексту:"
   ]
  },
  {
   "cell_type": "code",
   "execution_count": 5,
   "metadata": {},
   "outputs": [
    {
     "data": {
      "text/plain": [
       "Doc(text='ОАО \"ГАЗ\" и Нижегородский банк Сбербанка России п..., tokens=[...], sents=[...])"
      ]
     },
     "execution_count": 5,
     "metadata": {},
     "output_type": "execute_result"
    }
   ],
   "source": [
    "segmenter = natasha.Segmenter()\n",
    "doc.segment(segmenter)\n",
    "\n",
    "doc"
   ]
  },
  {
   "cell_type": "markdown",
   "metadata": {},
   "source": [
    "Мы видим, что поле text документа по-прежнему хранит исходный текст, но помимо него у экземпляра Doc появились свойства tokens и sents, содержащие токены и предложения соответственно:"
   ]
  },
  {
   "cell_type": "code",
   "execution_count": 5,
   "metadata": {},
   "outputs": [
    {
     "data": {
      "text/plain": [
       "[DocSent(stop=117, text='ОАО \"ГАЗ\" и Нижегородский банк Сбербанка России п..., tokens=[...]),\n",
       " DocSent(start=118, stop=246, text='Средства предоставляются на 5 месяцев под 45% год..., tokens=[...]),\n",
       " DocSent(start=247, stop=348, text='Обеспечением кредита стали акции автозавода, обор..., tokens=[...]),\n",
       " DocSent(start=349, stop=546, text='Как заявил на пресс-конференции президент ОАО \"ГА..., tokens=[...]),\n",
       " DocSent(start=547, stop=619, text='В долларовом эквиваленте размер кредита составляе..., tokens=[...]),\n",
       " DocSent(start=620, stop=744, text='Эта сумма предназначена для оплаты производственн..., tokens=[...]),\n",
       " DocSent(start=745, stop=853, text='Оборудование было заказано заводом еще до начала ..., tokens=[...]),\n",
       " DocSent(start=854, stop=939, text='В целом, отметил Пугин, для развития производства..., tokens=[...]),\n",
       " DocSent(start=940, stop=1041, text='В настоящее время ведутся переговоры о предоставл..., tokens=[...]),\n",
       " DocSent(start=1042, stop=1250, text='В августе этого года уже была достигнута договоре..., tokens=[...]),\n",
       " DocSent(start=1251, stop=1580, text='Однако,как сообщил агентству ПРАЙМ-ТАСС председат..., tokens=[...]),\n",
       " DocSent(start=1581, stop=1664, text='ЕБРР счел, что получение нового кредита будет уще..., tokens=[...]),\n",
       " DocSent(start=1665, stop=1832, text='Президент ОАО \"ГАЗ\" Николай Пугин заявил, \"что ЕБ..., tokens=[...]),\n",
       " DocSent(start=1833, stop=2060, text='Если руководству ЕБРР и Сбербанка удастся прийти ..., tokens=[...])]"
      ]
     },
     "execution_count": 5,
     "metadata": {},
     "output_type": "execute_result"
    }
   ],
   "source": [
    "doc.sents"
   ]
  },
  {
   "cell_type": "code",
   "execution_count": 6,
   "metadata": {},
   "outputs": [
    {
     "data": {
      "text/plain": [
       "[DocToken(stop=3, text='ОАО'),\n",
       " DocToken(start=4, stop=5, text='\"'),\n",
       " DocToken(start=5, stop=8, text='ГАЗ'),\n",
       " DocToken(start=8, stop=9, text='\"'),\n",
       " DocToken(start=10, stop=11, text='и'),\n",
       " DocToken(start=12, stop=25, text='Нижегородский'),\n",
       " DocToken(start=26, stop=30, text='банк'),\n",
       " DocToken(start=31, stop=40, text='Сбербанка'),\n",
       " DocToken(start=41, stop=47, text='России'),\n",
       " DocToken(start=48, stop=57, text='подписали')]"
      ]
     },
     "execution_count": 6,
     "metadata": {},
     "output_type": "execute_result"
    }
   ],
   "source": [
    "doc.tokens[:10]"
   ]
  },
  {
   "cell_type": "code",
   "execution_count": 7,
   "metadata": {},
   "outputs": [
    {
     "data": {
      "text/plain": [
       "[DocToken(start=118, stop=126, text='Средства'),\n",
       " DocToken(start=127, stop=142, text='предоставляются'),\n",
       " DocToken(start=143, stop=145, text='на'),\n",
       " DocToken(start=146, stop=147, text='5'),\n",
       " DocToken(start=148, stop=155, text='месяцев'),\n",
       " DocToken(start=156, stop=159, text='под'),\n",
       " DocToken(start=160, stop=162, text='45'),\n",
       " DocToken(start=162, stop=163, text='%'),\n",
       " DocToken(start=164, stop=171, text='годовых'),\n",
       " DocToken(start=171, stop=172, text=','),\n",
       " DocToken(start=173, stop=179, text='причем'),\n",
       " DocToken(start=180, stop=189, text='условиями'),\n",
       " DocToken(start=190, stop=198, text='договора'),\n",
       " DocToken(start=199, stop=210, text='допускается'),\n",
       " DocToken(start=211, stop=220, text='продление'),\n",
       " DocToken(start=221, stop=231, text='соглашения'),\n",
       " DocToken(start=232, stop=234, text='до'),\n",
       " DocToken(start=235, stop=237, text='15'),\n",
       " DocToken(start=238, stop=245, text='месяцев'),\n",
       " DocToken(start=245, stop=246, text='.')]"
      ]
     },
     "execution_count": 7,
     "metadata": {},
     "output_type": "execute_result"
    }
   ],
   "source": [
    "doc.sents[1].tokens"
   ]
  },
  {
   "cell_type": "code",
   "execution_count": 8,
   "metadata": {},
   "outputs": [
    {
     "data": {
      "text/plain": [
       "['Средства',\n",
       " 'предоставляются',\n",
       " 'на',\n",
       " '5',\n",
       " 'месяцев',\n",
       " 'под',\n",
       " '45',\n",
       " '%',\n",
       " 'годовых',\n",
       " ',',\n",
       " 'причем',\n",
       " 'условиями',\n",
       " 'договора',\n",
       " 'допускается',\n",
       " 'продление',\n",
       " 'соглашения',\n",
       " 'до',\n",
       " '15',\n",
       " 'месяцев',\n",
       " '.']"
      ]
     },
     "execution_count": 8,
     "metadata": {},
     "output_type": "execute_result"
    }
   ],
   "source": [
    "[x.text for x in doc.sents[1].tokens]"
   ]
  },
  {
   "cell_type": "markdown",
   "metadata": {},
   "source": [
    "**Синтаксический разбор**"
   ]
  },
  {
   "cell_type": "code",
   "execution_count": 40,
   "metadata": {},
   "outputs": [],
   "source": [
    "emb = natasha.NewsEmbedding()\n",
    "syntax_parser = natasha.NewsSyntaxParser(emb)\n",
    "doc.parse_syntax(syntax_parser)"
   ]
  },
  {
   "cell_type": "code",
   "execution_count": 10,
   "metadata": {},
   "outputs": [
    {
     "name": "stdout",
     "output_type": "stream",
     "text": [
      "          ┌► Средства        nsubj:pass\n",
      "┌─┌─┌─┌───└─ предоставляются \n",
      "│ │ │ │ ┌──► на              case\n",
      "│ │ │ │ │ ┌► 5               nummod\n",
      "│ │ │ └►└─└─ месяцев         obl\n",
      "│ │ │   ┌──► под             case\n",
      "│ │ │   │ ┌► 45              nummod\n",
      "│ │ └──►└─└─ %               obl\n",
      "│ │     └──► годовых         nmod\n",
      "│ │ ┌──────► ,               punct\n",
      "│ │ │ ┌────► причем          cc\n",
      "│ │ │ │ ┌►┌─ условиями       obl\n",
      "│ │ │ │ │ └► договора        nmod\n",
      "│ └►└─└─└─┌─ допускается     conj\n",
      "│     ┌─┌─└► продление       nsubj:pass\n",
      "│     │ └──► соглашения      nmod\n",
      "│     │ ┌──► до              case\n",
      "│     │ │ ┌► 15              nummod\n",
      "│     └►└─└─ месяцев         nmod\n",
      "└──────────► .               punct\n"
     ]
    }
   ],
   "source": [
    "doc.sents[1].syntax.print()"
   ]
  },
  {
   "cell_type": "code",
   "execution_count": 11,
   "metadata": {},
   "outputs": [
    {
     "name": "stdout",
     "output_type": "stream",
     "text": [
      "('ОАО', 'подписали')\n",
      "('Средства', 'предоставляются')\n",
      "('акции', 'стали')\n"
     ]
    },
    {
     "ename": "IndexError",
     "evalue": "list index out of range",
     "output_type": "error",
     "traceback": [
      "\u001b[1;31m---------------------------------------------------------------------------\u001b[0m",
      "\u001b[1;31mIndexError\u001b[0m                                Traceback (most recent call last)",
      "\u001b[1;32mc:\\Users\\User\\Pictures\\Лосева. Лабораторная работа №5.ipynb Cell 17\u001b[0m line \u001b[0;36m<cell line: 11>\u001b[1;34m()\u001b[0m\n\u001b[0;32m      <a href='vscode-notebook-cell:/c%3A/Users/User/Pictures/%D0%9B%D0%BE%D1%81%D0%B5%D0%B2%D0%B0.%20%D0%9B%D0%B0%D0%B1%D0%BE%D1%80%D0%B0%D1%82%D0%BE%D1%80%D0%BD%D0%B0%D1%8F%20%D1%80%D0%B0%D0%B1%D0%BE%D1%82%D0%B0%20%E2%84%965.ipynb#X22sZmlsZQ%3D%3D?line=8'>9</a>\u001b[0m     \u001b[39mreturn\u001b[39;00m subject[\u001b[39m0\u001b[39m]\u001b[39m.\u001b[39mtext, aux[\u001b[39m0\u001b[39m]\u001b[39m.\u001b[39mtext \u001b[39m+\u001b[39m \u001b[39m'\u001b[39m\u001b[39m \u001b[39m\u001b[39m'\u001b[39m \u001b[39m+\u001b[39m root\u001b[39m.\u001b[39mtext \u001b[39mif\u001b[39;00m aux \u001b[39melse\u001b[39;00m root\u001b[39m.\u001b[39mtext  \n\u001b[0;32m     <a href='vscode-notebook-cell:/c%3A/Users/User/Pictures/%D0%9B%D0%BE%D1%81%D0%B5%D0%B2%D0%B0.%20%D0%9B%D0%B0%D0%B1%D0%BE%D1%80%D0%B0%D1%82%D0%BE%D1%80%D0%BD%D0%B0%D1%8F%20%D1%80%D0%B0%D0%B1%D0%BE%D1%82%D0%B0%20%E2%84%965.ipynb#X22sZmlsZQ%3D%3D?line=10'>11</a>\u001b[0m \u001b[39mfor\u001b[39;00m sent \u001b[39min\u001b[39;00m doc\u001b[39m.\u001b[39msents:\n\u001b[1;32m---> <a href='vscode-notebook-cell:/c%3A/Users/User/Pictures/%D0%9B%D0%BE%D1%81%D0%B5%D0%B2%D0%B0.%20%D0%9B%D0%B0%D0%B1%D0%BE%D1%80%D0%B0%D1%82%D0%BE%D1%80%D0%BD%D0%B0%D1%8F%20%D1%80%D0%B0%D0%B1%D0%BE%D1%82%D0%B0%20%E2%84%965.ipynb#X22sZmlsZQ%3D%3D?line=11'>12</a>\u001b[0m     \u001b[39mprint\u001b[39m(extract_basis(sent))\n",
      "\u001b[1;32mc:\\Users\\User\\Pictures\\Лосева. Лабораторная работа №5.ipynb Cell 17\u001b[0m line \u001b[0;36mextract_basis\u001b[1;34m(syntactic_tree)\u001b[0m\n\u001b[0;32m      <a href='vscode-notebook-cell:/c%3A/Users/User/Pictures/%D0%9B%D0%BE%D1%81%D0%B5%D0%B2%D0%B0.%20%D0%9B%D0%B0%D0%B1%D0%BE%D1%80%D0%B0%D1%82%D0%BE%D1%80%D0%BD%D0%B0%D1%8F%20%D1%80%D0%B0%D0%B1%D0%BE%D1%82%D0%B0%20%E2%84%965.ipynb#X22sZmlsZQ%3D%3D?line=6'>7</a>\u001b[0m \u001b[39m# Найти подлежащее\u001b[39;00m\n\u001b[0;32m      <a href='vscode-notebook-cell:/c%3A/Users/User/Pictures/%D0%9B%D0%BE%D1%81%D0%B5%D0%B2%D0%B0.%20%D0%9B%D0%B0%D0%B1%D0%BE%D1%80%D0%B0%D1%82%D0%BE%D1%80%D0%BD%D0%B0%D1%8F%20%D1%80%D0%B0%D0%B1%D0%BE%D1%82%D0%B0%20%E2%84%965.ipynb#X22sZmlsZQ%3D%3D?line=7'>8</a>\u001b[0m subject \u001b[39m=\u001b[39m [x \u001b[39mfor\u001b[39;00m x \u001b[39min\u001b[39;00m syntactic_tree\u001b[39m.\u001b[39mtokens \u001b[39mif\u001b[39;00m x\u001b[39m.\u001b[39mhead_id \u001b[39m==\u001b[39m root\u001b[39m.\u001b[39mid \u001b[39mand\u001b[39;00m (x\u001b[39m.\u001b[39mrel \u001b[39m==\u001b[39m \u001b[39m'\u001b[39m\u001b[39mnsubj\u001b[39m\u001b[39m'\u001b[39m \u001b[39mor\u001b[39;00m x\u001b[39m.\u001b[39mrel\u001b[39m==\u001b[39m\u001b[39m'\u001b[39m\u001b[39mnsubj:pass\u001b[39m\u001b[39m'\u001b[39m)]\n\u001b[1;32m----> <a href='vscode-notebook-cell:/c%3A/Users/User/Pictures/%D0%9B%D0%BE%D1%81%D0%B5%D0%B2%D0%B0.%20%D0%9B%D0%B0%D0%B1%D0%BE%D1%80%D0%B0%D1%82%D0%BE%D1%80%D0%BD%D0%B0%D1%8F%20%D1%80%D0%B0%D0%B1%D0%BE%D1%82%D0%B0%20%E2%84%965.ipynb#X22sZmlsZQ%3D%3D?line=8'>9</a>\u001b[0m \u001b[39mreturn\u001b[39;00m subject[\u001b[39m0\u001b[39;49m]\u001b[39m.\u001b[39mtext, aux[\u001b[39m0\u001b[39m]\u001b[39m.\u001b[39mtext \u001b[39m+\u001b[39m \u001b[39m'\u001b[39m\u001b[39m \u001b[39m\u001b[39m'\u001b[39m \u001b[39m+\u001b[39m root\u001b[39m.\u001b[39mtext \u001b[39mif\u001b[39;00m aux \u001b[39melse\u001b[39;00m root\u001b[39m.\u001b[39mtext\n",
      "\u001b[1;31mIndexError\u001b[0m: list index out of range"
     ]
    }
   ],
   "source": [
    "def extract_basis(syntactic_tree):\n",
    "    # id2token = {x.id: x for x in syntactic_tree.tokens}\n",
    "    # Найти главное слово - сказуемое\n",
    "    root = [x for x in syntactic_tree.tokens if x.rel == 'root'][0]\n",
    "    # Проверить, есть ли у него какие-то модификаторы (aux)\n",
    "    aux = [x for x in syntactic_tree.tokens if x.head_id == root.id and (x.rel=='aux' or x.rel=='aux:pass')]\n",
    "    # Найти подлежащее\n",
    "    subject = [x for x in syntactic_tree.tokens if x.head_id == root.id and (x.rel == 'nsubj' or x.rel=='nsubj:pass')]\n",
    "    return subject[0].text, aux[0].text + ' ' + root.text if aux else root.text  \n",
    "\n",
    "for sent in doc.sents:\n",
    "    print(extract_basis(sent))"
   ]
  },
  {
   "cell_type": "markdown",
   "metadata": {},
   "source": [
    "Скорректируем функцию, чтобы она работала и со сложными предложениями (выделяла все основы сложносочиненных и сложноподчиненных предложений). \n",
    "\n",
    "Проверять будем на предложениий: **Средства предоставляются на 5 месяцев под 45% годовых, причем условиями договора допускается продление соглашения до 15 месяцев.**      \n",
    "В данном предложении 2 основы: средство предоставляются и допускается продление. "
   ]
  },
  {
   "cell_type": "code",
   "execution_count": 12,
   "metadata": {},
   "outputs": [
    {
     "name": "stdout",
     "output_type": "stream",
     "text": [
      "('ОАО', ' подписали')\n",
      "('Средства', ' предоставляются')\n",
      "('продление', ' допускается')\n",
      "('акции', ' стали')\n",
      "Не удалось извлечь основы из предложения.\n",
      "('размер', ' составляет')\n",
      "('сумма', ' предназначена')\n",
      "('Оборудование', 'было заказано')\n",
      "('рублей', ' требуется')\n",
      "('переговоры', ' ведутся')\n",
      "('договоренность', ' должен')\n",
      "Не удалось извлечь основы из предложения.\n",
      "('ЕБРР', ' счел')\n",
      "('Президент', ' заявил')\n",
      "('кредита', 'будут объединены')\n"
     ]
    }
   ],
   "source": [
    "def extract_bases(syntactic_tree):\n",
    "    # выделяем главные слова - сказуемые\n",
    "    roots = [x for x in syntactic_tree.tokens if x.rel == 'root']\n",
    "    \n",
    "    if not roots:\n",
    "        # обрабатываем исключения, если нет сказуемого\n",
    "        return None\n",
    "    \n",
    "    bases = []\n",
    "    for root in roots:\n",
    "        # ищем подлежащее для текущего сказуемого\n",
    "        subjects = [x for x in syntactic_tree.tokens if x.head_id == root.id and (x.rel == 'nsubj' or x.rel == 'nsubj:pass')]\n",
    "        if subjects:\n",
    "            subject = subjects[0]\n",
    "            \n",
    "            # поиск вспомогательных слов\n",
    "            auxiliaries = [x for x in syntactic_tree.tokens if x.head_id == root.id and (x.rel == 'aux' or x.rel == 'aux:pass')]\n",
    "            aux_text = ' '.join([aux.text for aux in auxiliaries]) if auxiliaries else ''\n",
    "            \n",
    "            # добавление найденной основы в список\n",
    "            bases.append((subject.text, aux_text + ' ' + root.text))\n",
    "            \n",
    "            # если есть дополнительные сказуемые в предложении, то добавляем основы в список\n",
    "            for conj_root in [x for x in syntactic_tree.tokens if x.head_id == root.id and x.rel == 'conj']:\n",
    "                auxiliaries_conj = [x for x in syntactic_tree.tokens if x.head_id == conj_root.id and (x.rel == 'aux' or x.rel == 'aux:pass')]\n",
    "                aux_text_conj = ' '.join([aux.text for aux in auxiliaries_conj]) if auxiliaries_conj else ''\n",
    "                subjects_conj = [x for x in syntactic_tree.tokens if x.head_id == conj_root.id and (x.rel == 'nsubj' or x.rel == 'nsubj:pass')]\n",
    "                if subjects_conj:\n",
    "                    subject_conj = subjects_conj[0]\n",
    "                    bases.append((subject_conj.text, aux_text_conj + ' ' + conj_root.text))\n",
    "    \n",
    "    return bases if bases else None\n",
    "\n",
    "for sent in doc.sents:\n",
    "    bases = extract_bases(sent.syntax)\n",
    "    if bases:\n",
    "        for base in bases:\n",
    "            print(base)\n",
    "    else:\n",
    "        print(\"Не удалось извлечь основы из предложения.\")\n"
   ]
  },
  {
   "cell_type": "markdown",
   "metadata": {},
   "source": [
    "Как мы видим функция правильно выделила основы для предложения: \n",
    "\n",
    " **Средства предоставляются на 5 месяцев под 45% годовых, причем условиями договора допускается продление соглашения до 15 месяцев.**    \n",
    "('Средства', ' предоставляются') ('продление', ' допускается')\n",
    "\n",
    "Следовательно, можно сказать, что ее можно использовать для сложных предложений. "
   ]
  },
  {
   "cell_type": "markdown",
   "metadata": {},
   "source": [
    "     1.2. Разработать функцию, которая бы выделяла из текста упоминания персоналий. Построить множества персоналий, упоминаемых в новостях Экономики за 2000 и 2015 годы.\n"
   ]
  },
  {
   "cell_type": "code",
   "execution_count": 13,
   "metadata": {},
   "outputs": [],
   "source": [
    "from natasha import NamesExtractor, MorphVocab\n",
    "from collections import defaultdict\n",
    "from datetime import datetime"
   ]
  },
  {
   "cell_type": "markdown",
   "metadata": {},
   "source": [
    "Выделим год из даты и отфильтруем нужные строки."
   ]
  },
  {
   "cell_type": "code",
   "execution_count": 14,
   "metadata": {},
   "outputs": [],
   "source": [
    "df['year'] = pd.to_datetime(df['date']).dt.year\n",
    "df_2000 = df[(df['year'] == 2000) & (df['topic'] == 'Экономика')]"
   ]
  },
  {
   "cell_type": "code",
   "execution_count": 15,
   "metadata": {},
   "outputs": [
    {
     "name": "stderr",
     "output_type": "stream",
     "text": [
      "C:\\Users\\User\\AppData\\Local\\Temp\\ipykernel_6772\\2065546801.py:1: SettingWithCopyWarning: \n",
      "A value is trying to be set on a copy of a slice from a DataFrame.\n",
      "Try using .loc[row_indexer,col_indexer] = value instead\n",
      "\n",
      "See the caveats in the documentation: https://pandas.pydata.org/pandas-docs/stable/user_guide/indexing.html#returning-a-view-versus-a-copy\n",
      "  df_2000['found_persons'] = None\n"
     ]
    }
   ],
   "source": [
    "df_2000['found_persons'] = None \n",
    "\n",
    "morph_vocab = MorphVocab()\n",
    "extractor = NamesExtractor(morph_vocab)\n",
    "\n",
    "def extract_persons(text):\n",
    "    matches = extractor(text)\n",
    "    return [match.fact.first for match in matches]\n",
    "\n",
    "for i, row in df_2000.iterrows():\n",
    "    persons_list = extract_persons(row['text'])\n",
    "    \n",
    "    if persons_list:\n",
    "        df_2000.at[i, 'found_persons'] = persons_list[0]"
   ]
  },
  {
   "cell_type": "code",
   "execution_count": 16,
   "metadata": {},
   "outputs": [],
   "source": [
    "df_personal = pd.DataFrame(df_2000['found_persons'][df_2000['found_persons'].notna()].tolist())"
   ]
  },
  {
   "cell_type": "markdown",
   "metadata": {},
   "source": [
    "Итак, нам удалось найти множество персоналей в новостях с темой \"Экономика\" за 2000 год. Теперь сделаем тоже самое и для 2015 года. "
   ]
  },
  {
   "cell_type": "code",
   "execution_count": 17,
   "metadata": {},
   "outputs": [
    {
     "name": "stderr",
     "output_type": "stream",
     "text": [
      "C:\\Users\\User\\AppData\\Local\\Temp\\ipykernel_6772\\3878928379.py:2: SettingWithCopyWarning: \n",
      "A value is trying to be set on a copy of a slice from a DataFrame.\n",
      "Try using .loc[row_indexer,col_indexer] = value instead\n",
      "\n",
      "See the caveats in the documentation: https://pandas.pydata.org/pandas-docs/stable/user_guide/indexing.html#returning-a-view-versus-a-copy\n",
      "  df_2015['found_persons'] = None\n"
     ]
    }
   ],
   "source": [
    "df_2015 = df[(df['year'] == 2015) & (df['topic'] == 'Экономика')]\n",
    "df_2015['found_persons'] = None \n",
    "\n",
    "for i, row in df_2015.iterrows():\n",
    "    persons_list = extract_persons(row['text'])\n",
    "    \n",
    "    if persons_list:\n",
    "        df_2015.at[i, 'found_persons'] = persons_list[0]\n",
    "\n",
    "df_personal1 = pd.DataFrame(df_2015['found_persons'][df_2015['found_persons'].notna()].tolist())       "
   ]
  },
  {
   "cell_type": "code",
   "execution_count": 18,
   "metadata": {},
   "outputs": [],
   "source": [
    "personal = pd.concat([df_personal, df_personal1], ignore_index=True)\n",
    "personal = personal.drop_duplicates()"
   ]
  },
  {
   "cell_type": "code",
   "execution_count": 19,
   "metadata": {},
   "outputs": [
    {
     "data": {
      "text/html": [
       "<div>\n",
       "<style scoped>\n",
       "    .dataframe tbody tr th:only-of-type {\n",
       "        vertical-align: middle;\n",
       "    }\n",
       "\n",
       "    .dataframe tbody tr th {\n",
       "        vertical-align: top;\n",
       "    }\n",
       "\n",
       "    .dataframe thead th {\n",
       "        text-align: right;\n",
       "    }\n",
       "</style>\n",
       "<table border=\"1\" class=\"dataframe\">\n",
       "  <thead>\n",
       "    <tr style=\"text-align: right;\">\n",
       "      <th></th>\n",
       "      <th>0</th>\n",
       "    </tr>\n",
       "  </thead>\n",
       "  <tbody>\n",
       "    <tr>\n",
       "      <th>0</th>\n",
       "      <td>Владимир</td>\n",
       "    </tr>\n",
       "    <tr>\n",
       "      <th>5</th>\n",
       "      <td>Билл</td>\n",
       "    </tr>\n",
       "    <tr>\n",
       "      <th>7</th>\n",
       "      <td>Рем</td>\n",
       "    </tr>\n",
       "    <tr>\n",
       "      <th>12</th>\n",
       "      <td>Борис</td>\n",
       "    </tr>\n",
       "    <tr>\n",
       "      <th>13</th>\n",
       "      <td>Евгений</td>\n",
       "    </tr>\n",
       "    <tr>\n",
       "      <th>...</th>\n",
       "      <td>...</td>\n",
       "    </tr>\n",
       "    <tr>\n",
       "      <th>282</th>\n",
       "      <td>Слим</td>\n",
       "    </tr>\n",
       "    <tr>\n",
       "      <th>283</th>\n",
       "      <td>Кубе</td>\n",
       "    </tr>\n",
       "    <tr>\n",
       "      <th>287</th>\n",
       "      <td>Ингвар</td>\n",
       "    </tr>\n",
       "    <tr>\n",
       "      <th>294</th>\n",
       "      <td>Нуриэль</td>\n",
       "    </tr>\n",
       "    <tr>\n",
       "      <th>316</th>\n",
       "      <td>Георгий</td>\n",
       "    </tr>\n",
       "  </tbody>\n",
       "</table>\n",
       "<p>84 rows × 1 columns</p>\n",
       "</div>"
      ],
      "text/plain": [
       "            0\n",
       "0    Владимир\n",
       "5        Билл\n",
       "7         Рем\n",
       "12      Борис\n",
       "13    Евгений\n",
       "..        ...\n",
       "282      Слим\n",
       "283      Кубе\n",
       "287    Ингвар\n",
       "294   Нуриэль\n",
       "316   Георгий\n",
       "\n",
       "[84 rows x 1 columns]"
      ]
     },
     "execution_count": 19,
     "metadata": {},
     "output_type": "execute_result"
    }
   ],
   "source": [
    "personal"
   ]
  },
  {
   "cell_type": "markdown",
   "metadata": {},
   "source": [
    "Итак, мы получили список персоналей, которые упомянуты в новостях Экономики за 2000 и 2015 год. "
   ]
  },
  {
   "cell_type": "markdown",
   "metadata": {},
   "source": [
    "    1.3. Разработать функцию, которая бы выделяла множество действий, совершенных заданной персоналией («Х поручил то-то, Х предложил то-то, что-то было предложено Х»)."
   ]
  },
  {
   "cell_type": "code",
   "execution_count": 20,
   "metadata": {},
   "outputs": [],
   "source": [
    "import spacy"
   ]
  },
  {
   "cell_type": "code",
   "execution_count": 21,
   "metadata": {},
   "outputs": [],
   "source": [
    "def extract_actions(text, person_name):\n",
    "    try:\n",
    "        # Разбиваем текст на предложения\n",
    "        doc = natasha.Doc(text)\n",
    "        doc.segment(segmenter)\n",
    "        doc.parse_syntax(syntax_parser)\n",
    "        \n",
    "        actions = set()\n",
    "\n",
    "        # Проходимся по каждому предложению\n",
    "        for sent in doc.sents:\n",
    "            # Ищем главное слово в предложении (например, подлежащее)\n",
    "            main_word = next((token.text.lower() for token in sent.tokens if token.rel == 'nsubj'), None)\n",
    "\n",
    "            # Если главное слово есть и оно совпадает с именем персоны\n",
    "            if main_word and main_word == person_name.lower():\n",
    "                root_tokens = [token.text for token in sent.tokens if token.rel == 'root']\n",
    "                noun_tokens = [token.text for token in sent.tokens if (token.rel == 'obj' or token.rel == 'obj:pass')]\n",
    "\n",
    "                root = root_tokens[0] if root_tokens else ''\n",
    "                noun = ' '.join(noun_tokens) if noun_tokens else ''\n",
    "\n",
    "                action = f\"{main_word} {root} {noun}\".strip()\n",
    "                actions.add(action)\n",
    "\n",
    "        return actions\n",
    "\n",
    "    except Exception as e:\n",
    "        print(f\"Error processing text: {e}\")\n",
    "        return set()"
   ]
  },
  {
   "cell_type": "markdown",
   "metadata": {},
   "source": [
    "Для примера посмотрим на 1 персональ и посмотрим, какие действия он совершал из 50 первых новостей о Экономики за 2000 год"
   ]
  },
  {
   "cell_type": "code",
   "execution_count": 22,
   "metadata": {},
   "outputs": [
    {
     "name": "stdout",
     "output_type": "stream",
     "text": [
      "Владимир\n",
      "Новость:\n",
      "С 1 февраля пенсии будут повышены не на 12, а на 20 процентов. Об этомсообщил журналистам РИА \"Новости\" исполняющий обязанности президента России, премьер-министр Владимир Путин в ходе встречи с председателем Пенсионного фонда Михаилом Зурабовым. 11 января 2000 Владимир Путин подписал постановление правительства об увеличении с 1 февраля размера пенсий на 20 процентов. По мнению главы Пенсионного фонда, такое повышение пенсий стало возможным в результате роста производства в стране. По словам Зурабова, в феврале средняя пенсия составит примерно 650 рублей. Все выплаты Пенсионный фонд намерен производить в срок. Кроме того, предполагается, что в 2000 году пенсии будут регулярно повышаться. Для таких надежд, убежден глава Пенсионного фонда, есть все основания. На встрече исполняющего обязанности президента с руководителем Пенсионного фонда также обсуждались вопросы адресной помощи наименее обеспеченным пенсионерам, в том числе живущим на Крайнем Севере и Дальнем Востоке.\n",
      "Действие персоналя:\n",
      "владимир подписал постановление\n",
      "Новость:\n",
      "Исполняющий обязанности президента России Владимир Путин направил председателю Госдумы Геннадию Селезневу отрицательное заключение на проект федерального закона \"О внесении изменений и дополнений в Закон Российской Федерации \"О дорожных фондах в Российской Федерации\", принятый Государственной Думой в первом чтении 26 ноября 1999 года. Поправки предусматривали перевод счетов Федерального дорожного фонда из казначейства в Центробанк и зачисление доходов фонда на счета Центробанка. В законопроекте также подтверждалось, что в федеральном бюджете дорожные фонды будут утверждаться в виде самостоятельных доходных и расходных статей. Кроме того, предусматривалось, что специальный орган федеральной власти, осуществляющий контроль за дорогами, должен получать информацию о доходах фонда и иметь право распоряжаться его счетами. Владимир Путин отметил в документе ряд существенных недостатков. В указано отмечается, что \"в законопроекте используются новации, необходимость в которых вызывает сомнение\", содержатся \"противоречия бюджетному законодательству Российской Федерации\" и \"погрешности технико-юридического характера\".\n",
      "Действие персоналя:\n",
      "владимир отметил ряд\n"
     ]
    }
   ],
   "source": [
    "for _, row in personal[:1].iterrows():\n",
    "    person_name = row[0]\n",
    "    print(row[0])\n",
    "    # Проходим по каждой новости в датафрейме с новостями\n",
    "    for _, news_row in df_2000[:50].iterrows():\n",
    "        text = news_row['text']\n",
    "\n",
    "        # Извлекаем подлежащее, вспомогательный глагол, глагол и существительное, относящиеся к глаголу, для данной персоны и новости\n",
    "        actions = extract_actions(text, person_name)\n",
    "\n",
    "        # Выводим результат\n",
    "        if actions:\n",
    "            print(\"Новость:\")\n",
    "            print(news_row['text'])\n",
    "            print(\"Действие персоналя:\")\n",
    "            print('\\n'.join(actions))    "
   ]
  },
  {
   "cell_type": "markdown",
   "metadata": {},
   "source": [
    "Возможно в этом задании нужно больше субъектов, но в целом данный результат подходит по требующийся шаблон. "
   ]
  },
  {
   "cell_type": "markdown",
   "metadata": {},
   "source": [
    "### 2. Векторная модель документа:\n",
    "    2.1.  Провести анализ того, как качество тематической классификации новости без лемматизации зависит от размера обучающего множества (см. кривые обучения в зависимости от размера обучающего множества). Сопоставить c качеством классификации модели с лемматизацией.\n",
    "\n",
    "\n",
    "**Оценка качества модели без лемматизации**"
   ]
  },
  {
   "cell_type": "code",
   "execution_count": 6,
   "metadata": {},
   "outputs": [],
   "source": [
    "import numpy as np\n",
    "\n",
    "from sklearn.feature_extraction.text import CountVectorizer\n",
    "from sklearn.model_selection import train_test_split\n",
    "from sklearn.linear_model import LogisticRegression\n",
    "from sklearn.preprocessing import StandardScaler\n",
    "from sklearn.metrics import accuracy_score, roc_auc_score\n",
    "from sklearn.pipeline import make_pipeline"
   ]
  },
  {
   "cell_type": "markdown",
   "metadata": {},
   "source": [
    "Так как качество тематической классификации новости без лемматизации зависит от обучающего множества по разным топикам и сравним их с помощью кривых обучения. "
   ]
  },
  {
   "cell_type": "code",
   "execution_count": 24,
   "metadata": {},
   "outputs": [
    {
     "data": {
      "text/html": [
       "<div>\n",
       "<style scoped>\n",
       "    .dataframe tbody tr th:only-of-type {\n",
       "        vertical-align: middle;\n",
       "    }\n",
       "\n",
       "    .dataframe tbody tr th {\n",
       "        vertical-align: top;\n",
       "    }\n",
       "\n",
       "    .dataframe thead th {\n",
       "        text-align: right;\n",
       "    }\n",
       "</style>\n",
       "<table border=\"1\" class=\"dataframe\">\n",
       "  <thead>\n",
       "    <tr style=\"text-align: right;\">\n",
       "      <th></th>\n",
       "      <th>url</th>\n",
       "      <th>title</th>\n",
       "      <th>text</th>\n",
       "      <th>tags</th>\n",
       "      <th>date</th>\n",
       "      <th>year</th>\n",
       "    </tr>\n",
       "    <tr>\n",
       "      <th>topic</th>\n",
       "      <th></th>\n",
       "      <th></th>\n",
       "      <th></th>\n",
       "      <th></th>\n",
       "      <th></th>\n",
       "      <th></th>\n",
       "    </tr>\n",
       "  </thead>\n",
       "  <tbody>\n",
       "    <tr>\n",
       "      <th>Культура</th>\n",
       "      <td>53797</td>\n",
       "      <td>53797</td>\n",
       "      <td>53796</td>\n",
       "      <td>53531</td>\n",
       "      <td>53797</td>\n",
       "      <td>53797</td>\n",
       "    </tr>\n",
       "    <tr>\n",
       "      <th>Спорт</th>\n",
       "      <td>64413</td>\n",
       "      <td>64413</td>\n",
       "      <td>64413</td>\n",
       "      <td>57894</td>\n",
       "      <td>64413</td>\n",
       "      <td>64413</td>\n",
       "    </tr>\n",
       "    <tr>\n",
       "      <th>Экономика</th>\n",
       "      <td>79528</td>\n",
       "      <td>79528</td>\n",
       "      <td>79528</td>\n",
       "      <td>76423</td>\n",
       "      <td>79528</td>\n",
       "      <td>79528</td>\n",
       "    </tr>\n",
       "  </tbody>\n",
       "</table>\n",
       "</div>"
      ],
      "text/plain": [
       "             url  title   text   tags   date   year\n",
       "topic                                              \n",
       "Культура   53797  53797  53796  53531  53797  53797\n",
       "Спорт      64413  64413  64413  57894  64413  64413\n",
       "Экономика  79528  79528  79528  76423  79528  79528"
      ]
     },
     "execution_count": 24,
     "metadata": {},
     "output_type": "execute_result"
    }
   ],
   "source": [
    "df.groupby(by='topic').count()"
   ]
  },
  {
   "cell_type": "markdown",
   "metadata": {},
   "source": [
    "Самой крупной выборкой будет топик \"Экономика\", а самым маленьки \"Культура\""
   ]
  },
  {
   "cell_type": "code",
   "execution_count": 7,
   "metadata": {},
   "outputs": [],
   "source": [
    "df_economy = df\n",
    "df_culture = df\n",
    "df_sport = df"
   ]
  },
  {
   "cell_type": "code",
   "execution_count": 8,
   "metadata": {},
   "outputs": [],
   "source": [
    "df_economy['target'] = (df_economy['topic'] == 'Экономика').astype(np.int8)\n",
    "df_economy = df_economy[['text', 'target']]\n",
    "\n",
    "df_culture['target'] = (df_culture['topic'] == 'Культура').astype(np.int8)\n",
    "df_culture = df_culture[['text', 'target']]\n",
    "\n",
    "df_sport['target'] = (df_sport['topic'] == 'Спорт').astype(np.int8)\n",
    "df_sport = df_sport[['text', 'target']]"
   ]
  },
  {
   "cell_type": "code",
   "execution_count": 27,
   "metadata": {},
   "outputs": [
    {
     "data": {
      "text/html": [
       "<div>\n",
       "<style scoped>\n",
       "    .dataframe tbody tr th:only-of-type {\n",
       "        vertical-align: middle;\n",
       "    }\n",
       "\n",
       "    .dataframe tbody tr th {\n",
       "        vertical-align: top;\n",
       "    }\n",
       "\n",
       "    .dataframe thead th {\n",
       "        text-align: right;\n",
       "    }\n",
       "</style>\n",
       "<table border=\"1\" class=\"dataframe\">\n",
       "  <thead>\n",
       "    <tr style=\"text-align: right;\">\n",
       "      <th></th>\n",
       "      <th>text</th>\n",
       "      <th>target</th>\n",
       "    </tr>\n",
       "  </thead>\n",
       "  <tbody>\n",
       "    <tr>\n",
       "      <th>0</th>\n",
       "      <td>С 1 января 2000 года все телеканалы будут опла...</td>\n",
       "      <td>1</td>\n",
       "    </tr>\n",
       "    <tr>\n",
       "      <th>1</th>\n",
       "      <td>Германский автопромышленный концерн Volkswagen...</td>\n",
       "      <td>1</td>\n",
       "    </tr>\n",
       "    <tr>\n",
       "      <th>2</th>\n",
       "      <td>Нераспределенная прибыль ОАО \"Тюменнефтегаз\", ...</td>\n",
       "      <td>1</td>\n",
       "    </tr>\n",
       "    <tr>\n",
       "      <th>3</th>\n",
       "      <td>Две крупнейших телекоммуникационных компании С...</td>\n",
       "      <td>1</td>\n",
       "    </tr>\n",
       "    <tr>\n",
       "      <th>4</th>\n",
       "      <td>ОАО \"ГАЗ\" и Нижегородский банк Сбербанка Росси...</td>\n",
       "      <td>1</td>\n",
       "    </tr>\n",
       "    <tr>\n",
       "      <th>...</th>\n",
       "      <td>...</td>\n",
       "      <td>...</td>\n",
       "    </tr>\n",
       "    <tr>\n",
       "      <th>197733</th>\n",
       "      <td>Российский боец смешанного стиля (MMA) Алексей...</td>\n",
       "      <td>0</td>\n",
       "    </tr>\n",
       "    <tr>\n",
       "      <th>197734</th>\n",
       "      <td>Американский боец смешанного стиля (MMA) Фрэн...</td>\n",
       "      <td>0</td>\n",
       "    </tr>\n",
       "    <tr>\n",
       "      <th>197735</th>\n",
       "      <td>Главный тренер «Манчестер Юнайтед» Жозе Моурин...</td>\n",
       "      <td>0</td>\n",
       "    </tr>\n",
       "    <tr>\n",
       "      <th>197736</th>\n",
       "      <td>Президент России Владимир Путин, выступая на з...</td>\n",
       "      <td>0</td>\n",
       "    </tr>\n",
       "    <tr>\n",
       "      <th>197737</th>\n",
       "      <td>Швейцарский горнолыжник Марк Гизин неудачно пр...</td>\n",
       "      <td>0</td>\n",
       "    </tr>\n",
       "  </tbody>\n",
       "</table>\n",
       "<p>197738 rows × 2 columns</p>\n",
       "</div>"
      ],
      "text/plain": [
       "                                                     text  target\n",
       "0       С 1 января 2000 года все телеканалы будут опла...       1\n",
       "1       Германский автопромышленный концерн Volkswagen...       1\n",
       "2       Нераспределенная прибыль ОАО \"Тюменнефтегаз\", ...       1\n",
       "3       Две крупнейших телекоммуникационных компании С...       1\n",
       "4       ОАО \"ГАЗ\" и Нижегородский банк Сбербанка Росси...       1\n",
       "...                                                   ...     ...\n",
       "197733  Российский боец смешанного стиля (MMA) Алексей...       0\n",
       "197734   Американский боец смешанного стиля (MMA) Фрэн...       0\n",
       "197735  Главный тренер «Манчестер Юнайтед» Жозе Моурин...       0\n",
       "197736  Президент России Владимир Путин, выступая на з...       0\n",
       "197737  Швейцарский горнолыжник Марк Гизин неудачно пр...       0\n",
       "\n",
       "[197738 rows x 2 columns]"
      ]
     },
     "execution_count": 27,
     "metadata": {},
     "output_type": "execute_result"
    }
   ],
   "source": [
    "df_economy"
   ]
  },
  {
   "cell_type": "code",
   "execution_count": 28,
   "metadata": {},
   "outputs": [
    {
     "data": {
      "text/html": [
       "<div>\n",
       "<style scoped>\n",
       "    .dataframe tbody tr th:only-of-type {\n",
       "        vertical-align: middle;\n",
       "    }\n",
       "\n",
       "    .dataframe tbody tr th {\n",
       "        vertical-align: top;\n",
       "    }\n",
       "\n",
       "    .dataframe thead th {\n",
       "        text-align: right;\n",
       "    }\n",
       "</style>\n",
       "<table border=\"1\" class=\"dataframe\">\n",
       "  <thead>\n",
       "    <tr style=\"text-align: right;\">\n",
       "      <th></th>\n",
       "      <th>text</th>\n",
       "      <th>target</th>\n",
       "    </tr>\n",
       "  </thead>\n",
       "  <tbody>\n",
       "    <tr>\n",
       "      <th>0</th>\n",
       "      <td>С 1 января 2000 года все телеканалы будут опла...</td>\n",
       "      <td>0</td>\n",
       "    </tr>\n",
       "    <tr>\n",
       "      <th>1</th>\n",
       "      <td>Германский автопромышленный концерн Volkswagen...</td>\n",
       "      <td>0</td>\n",
       "    </tr>\n",
       "    <tr>\n",
       "      <th>2</th>\n",
       "      <td>Нераспределенная прибыль ОАО \"Тюменнефтегаз\", ...</td>\n",
       "      <td>0</td>\n",
       "    </tr>\n",
       "    <tr>\n",
       "      <th>3</th>\n",
       "      <td>Две крупнейших телекоммуникационных компании С...</td>\n",
       "      <td>0</td>\n",
       "    </tr>\n",
       "    <tr>\n",
       "      <th>4</th>\n",
       "      <td>ОАО \"ГАЗ\" и Нижегородский банк Сбербанка Росси...</td>\n",
       "      <td>0</td>\n",
       "    </tr>\n",
       "    <tr>\n",
       "      <th>...</th>\n",
       "      <td>...</td>\n",
       "      <td>...</td>\n",
       "    </tr>\n",
       "    <tr>\n",
       "      <th>197733</th>\n",
       "      <td>Российский боец смешанного стиля (MMA) Алексей...</td>\n",
       "      <td>0</td>\n",
       "    </tr>\n",
       "    <tr>\n",
       "      <th>197734</th>\n",
       "      <td>Американский боец смешанного стиля (MMA) Фрэн...</td>\n",
       "      <td>0</td>\n",
       "    </tr>\n",
       "    <tr>\n",
       "      <th>197735</th>\n",
       "      <td>Главный тренер «Манчестер Юнайтед» Жозе Моурин...</td>\n",
       "      <td>0</td>\n",
       "    </tr>\n",
       "    <tr>\n",
       "      <th>197736</th>\n",
       "      <td>Президент России Владимир Путин, выступая на з...</td>\n",
       "      <td>1</td>\n",
       "    </tr>\n",
       "    <tr>\n",
       "      <th>197737</th>\n",
       "      <td>Швейцарский горнолыжник Марк Гизин неудачно пр...</td>\n",
       "      <td>0</td>\n",
       "    </tr>\n",
       "  </tbody>\n",
       "</table>\n",
       "<p>197738 rows × 2 columns</p>\n",
       "</div>"
      ],
      "text/plain": [
       "                                                     text  target\n",
       "0       С 1 января 2000 года все телеканалы будут опла...       0\n",
       "1       Германский автопромышленный концерн Volkswagen...       0\n",
       "2       Нераспределенная прибыль ОАО \"Тюменнефтегаз\", ...       0\n",
       "3       Две крупнейших телекоммуникационных компании С...       0\n",
       "4       ОАО \"ГАЗ\" и Нижегородский банк Сбербанка Росси...       0\n",
       "...                                                   ...     ...\n",
       "197733  Российский боец смешанного стиля (MMA) Алексей...       0\n",
       "197734   Американский боец смешанного стиля (MMA) Фрэн...       0\n",
       "197735  Главный тренер «Манчестер Юнайтед» Жозе Моурин...       0\n",
       "197736  Президент России Владимир Путин, выступая на з...       1\n",
       "197737  Швейцарский горнолыжник Марк Гизин неудачно пр...       0\n",
       "\n",
       "[197738 rows x 2 columns]"
      ]
     },
     "execution_count": 28,
     "metadata": {},
     "output_type": "execute_result"
    }
   ],
   "source": [
    "df_culture"
   ]
  },
  {
   "cell_type": "code",
   "execution_count": 29,
   "metadata": {},
   "outputs": [
    {
     "data": {
      "text/html": [
       "<div>\n",
       "<style scoped>\n",
       "    .dataframe tbody tr th:only-of-type {\n",
       "        vertical-align: middle;\n",
       "    }\n",
       "\n",
       "    .dataframe tbody tr th {\n",
       "        vertical-align: top;\n",
       "    }\n",
       "\n",
       "    .dataframe thead th {\n",
       "        text-align: right;\n",
       "    }\n",
       "</style>\n",
       "<table border=\"1\" class=\"dataframe\">\n",
       "  <thead>\n",
       "    <tr style=\"text-align: right;\">\n",
       "      <th></th>\n",
       "      <th>text</th>\n",
       "      <th>target</th>\n",
       "    </tr>\n",
       "  </thead>\n",
       "  <tbody>\n",
       "    <tr>\n",
       "      <th>0</th>\n",
       "      <td>С 1 января 2000 года все телеканалы будут опла...</td>\n",
       "      <td>0</td>\n",
       "    </tr>\n",
       "    <tr>\n",
       "      <th>1</th>\n",
       "      <td>Германский автопромышленный концерн Volkswagen...</td>\n",
       "      <td>0</td>\n",
       "    </tr>\n",
       "    <tr>\n",
       "      <th>2</th>\n",
       "      <td>Нераспределенная прибыль ОАО \"Тюменнефтегаз\", ...</td>\n",
       "      <td>0</td>\n",
       "    </tr>\n",
       "    <tr>\n",
       "      <th>3</th>\n",
       "      <td>Две крупнейших телекоммуникационных компании С...</td>\n",
       "      <td>0</td>\n",
       "    </tr>\n",
       "    <tr>\n",
       "      <th>4</th>\n",
       "      <td>ОАО \"ГАЗ\" и Нижегородский банк Сбербанка Росси...</td>\n",
       "      <td>0</td>\n",
       "    </tr>\n",
       "    <tr>\n",
       "      <th>...</th>\n",
       "      <td>...</td>\n",
       "      <td>...</td>\n",
       "    </tr>\n",
       "    <tr>\n",
       "      <th>197733</th>\n",
       "      <td>Российский боец смешанного стиля (MMA) Алексей...</td>\n",
       "      <td>1</td>\n",
       "    </tr>\n",
       "    <tr>\n",
       "      <th>197734</th>\n",
       "      <td>Американский боец смешанного стиля (MMA) Фрэн...</td>\n",
       "      <td>1</td>\n",
       "    </tr>\n",
       "    <tr>\n",
       "      <th>197735</th>\n",
       "      <td>Главный тренер «Манчестер Юнайтед» Жозе Моурин...</td>\n",
       "      <td>1</td>\n",
       "    </tr>\n",
       "    <tr>\n",
       "      <th>197736</th>\n",
       "      <td>Президент России Владимир Путин, выступая на з...</td>\n",
       "      <td>0</td>\n",
       "    </tr>\n",
       "    <tr>\n",
       "      <th>197737</th>\n",
       "      <td>Швейцарский горнолыжник Марк Гизин неудачно пр...</td>\n",
       "      <td>1</td>\n",
       "    </tr>\n",
       "  </tbody>\n",
       "</table>\n",
       "<p>197738 rows × 2 columns</p>\n",
       "</div>"
      ],
      "text/plain": [
       "                                                     text  target\n",
       "0       С 1 января 2000 года все телеканалы будут опла...       0\n",
       "1       Германский автопромышленный концерн Volkswagen...       0\n",
       "2       Нераспределенная прибыль ОАО \"Тюменнефтегаз\", ...       0\n",
       "3       Две крупнейших телекоммуникационных компании С...       0\n",
       "4       ОАО \"ГАЗ\" и Нижегородский банк Сбербанка Росси...       0\n",
       "...                                                   ...     ...\n",
       "197733  Российский боец смешанного стиля (MMA) Алексей...       1\n",
       "197734   Американский боец смешанного стиля (MMA) Фрэн...       1\n",
       "197735  Главный тренер «Манчестер Юнайтед» Жозе Моурин...       1\n",
       "197736  Президент России Владимир Путин, выступая на з...       0\n",
       "197737  Швейцарский горнолыжник Марк Гизин неудачно пр...       1\n",
       "\n",
       "[197738 rows x 2 columns]"
      ]
     },
     "execution_count": 29,
     "metadata": {},
     "output_type": "execute_result"
    }
   ],
   "source": [
    "df_sport"
   ]
  },
  {
   "cell_type": "code",
   "execution_count": 9,
   "metadata": {},
   "outputs": [
    {
     "name": "stderr",
     "output_type": "stream",
     "text": [
      "C:\\Users\\User\\AppData\\Local\\Temp\\ipykernel_4676\\771044405.py:1: SettingWithCopyWarning: \n",
      "A value is trying to be set on a copy of a slice from a DataFrame\n",
      "\n",
      "See the caveats in the documentation: https://pandas.pydata.org/pandas-docs/stable/user_guide/indexing.html#returning-a-view-versus-a-copy\n",
      "  df_economy.dropna(inplace=True)\n",
      "C:\\Users\\User\\AppData\\Local\\Temp\\ipykernel_4676\\771044405.py:2: SettingWithCopyWarning: \n",
      "A value is trying to be set on a copy of a slice from a DataFrame\n",
      "\n",
      "See the caveats in the documentation: https://pandas.pydata.org/pandas-docs/stable/user_guide/indexing.html#returning-a-view-versus-a-copy\n",
      "  df_culture.dropna(inplace=True)\n",
      "C:\\Users\\User\\AppData\\Local\\Temp\\ipykernel_4676\\771044405.py:3: SettingWithCopyWarning: \n",
      "A value is trying to be set on a copy of a slice from a DataFrame\n",
      "\n",
      "See the caveats in the documentation: https://pandas.pydata.org/pandas-docs/stable/user_guide/indexing.html#returning-a-view-versus-a-copy\n",
      "  df_sport.dropna(inplace=True)\n"
     ]
    }
   ],
   "source": [
    "df_economy.dropna(inplace=True)\n",
    "df_culture.dropna(inplace=True)\n",
    "df_sport.dropna(inplace=True)"
   ]
  },
  {
   "cell_type": "code",
   "execution_count": 10,
   "metadata": {},
   "outputs": [],
   "source": [
    "vectorizer = CountVectorizer(\n",
    "    max_df=0.7,    # Делать признаками слова, которые содержатся в не более, чем заданной доле документов\n",
    "    min_df=10      # Делать признаки из слов, которые содержатся, по крайней мере, в заданном количестве документов\n",
    ")"
   ]
  },
  {
   "cell_type": "code",
   "execution_count": 11,
   "metadata": {},
   "outputs": [],
   "source": [
    "X_economy = vectorizer.fit_transform(df_economy.text)"
   ]
  },
  {
   "cell_type": "code",
   "execution_count": 12,
   "metadata": {},
   "outputs": [],
   "source": [
    "X_economy_train, X_economy_test, y_economy_train, y_economy_test = train_test_split(X_economy, df_economy.target, test_size=0.2, random_state=42, stratify=df_economy.target)"
   ]
  },
  {
   "cell_type": "code",
   "execution_count": 13,
   "metadata": {},
   "outputs": [
    {
     "name": "stderr",
     "output_type": "stream",
     "text": [
      "c:\\Python310\\lib\\site-packages\\sklearn\\linear_model\\_logistic.py:814: ConvergenceWarning: lbfgs failed to converge (status=1):\n",
      "STOP: TOTAL NO. of ITERATIONS REACHED LIMIT.\n",
      "\n",
      "Increase the number of iterations (max_iter) or scale the data as shown in:\n",
      "    https://scikit-learn.org/stable/modules/preprocessing.html\n",
      "Please also refer to the documentation for alternative solver options:\n",
      "    https://scikit-learn.org/stable/modules/linear_model.html#logistic-regression\n",
      "  n_iter_i = _check_optimize_result(\n"
     ]
    },
    {
     "data": {
      "text/plain": [
       "LogisticRegression()"
      ]
     },
     "execution_count": 13,
     "metadata": {},
     "output_type": "execute_result"
    }
   ],
   "source": [
    "lm_economy = LogisticRegression()\n",
    "lm_economy.fit(X_economy_train, y_economy_train)"
   ]
  },
  {
   "cell_type": "code",
   "execution_count": 14,
   "metadata": {},
   "outputs": [
    {
     "name": "stdout",
     "output_type": "stream",
     "text": [
      "Accuracy: 0.9942095681197533\n",
      "ROC_AUC: 0.9996068418114106\n"
     ]
    }
   ],
   "source": [
    "print('Accuracy:', accuracy_score(y_economy_test, lm_economy.predict(X_economy_test)))\n",
    "print('ROC_AUC:', roc_auc_score(y_economy_test, lm_economy.predict_proba(X_economy_test)[:, 1]))"
   ]
  },
  {
   "cell_type": "code",
   "execution_count": 15,
   "metadata": {},
   "outputs": [
    {
     "name": "stdout",
     "output_type": "stream",
     "text": [
      "Accuracy: 0.545666026094872\n",
      "ROC_AUC: 0.5013400344803405\n"
     ]
    },
    {
     "name": "stderr",
     "output_type": "stream",
     "text": [
      "c:\\Python310\\lib\\site-packages\\sklearn\\linear_model\\_logistic.py:814: ConvergenceWarning: lbfgs failed to converge (status=1):\n",
      "STOP: TOTAL NO. of ITERATIONS REACHED LIMIT.\n",
      "\n",
      "Increase the number of iterations (max_iter) or scale the data as shown in:\n",
      "    https://scikit-learn.org/stable/modules/preprocessing.html\n",
      "Please also refer to the documentation for alternative solver options:\n",
      "    https://scikit-learn.org/stable/modules/linear_model.html#logistic-regression\n",
      "  n_iter_i = _check_optimize_result(\n"
     ]
    }
   ],
   "source": [
    "X_culture = vectorizer.fit_transform(df_culture.text)\n",
    "X_culture_train, X_culture_test, y_culture_train, y_culture_test = train_test_split(X_culture, df_culture.target, test_size=0.2, random_state=42, stratify=df_culture.target)\n",
    "\n",
    "lm__culture = LogisticRegression()\n",
    "lm__culture.fit(X_culture_train, y_culture_train)\n",
    "\n",
    "print('Accuracy:', accuracy_score(y_economy_test, lm__culture.predict(X_culture_test)))\n",
    "print('ROC_AUC:', roc_auc_score(y_economy_test, lm__culture.predict_proba(X_culture_test)[:, 1]))"
   ]
  },
  {
   "cell_type": "code",
   "execution_count": 16,
   "metadata": {},
   "outputs": [
    {
     "name": "stdout",
     "output_type": "stream",
     "text": [
      "Accuracy: 0.9960301405886518\n",
      "ROC_AUC: 0.9998110618931458\n"
     ]
    },
    {
     "name": "stderr",
     "output_type": "stream",
     "text": [
      "c:\\Python310\\lib\\site-packages\\sklearn\\linear_model\\_logistic.py:814: ConvergenceWarning: lbfgs failed to converge (status=1):\n",
      "STOP: TOTAL NO. of ITERATIONS REACHED LIMIT.\n",
      "\n",
      "Increase the number of iterations (max_iter) or scale the data as shown in:\n",
      "    https://scikit-learn.org/stable/modules/preprocessing.html\n",
      "Please also refer to the documentation for alternative solver options:\n",
      "    https://scikit-learn.org/stable/modules/linear_model.html#logistic-regression\n",
      "  n_iter_i = _check_optimize_result(\n"
     ]
    }
   ],
   "source": [
    "X_sport = vectorizer.fit_transform(df_sport.text)\n",
    "X_sport_train, X_sport_test, y_sport_train, y_sport_test = train_test_split(X_sport, df_sport.target, test_size=0.2, random_state=42, stratify=df_sport.target)\n",
    "\n",
    "lm_sport = LogisticRegression()\n",
    "lm_sport.fit(X_sport_train, y_sport_train)\n",
    "\n",
    "print('Accuracy:', accuracy_score(y_sport_test, lm_sport.predict(X_sport_test)))\n",
    "print('ROC_AUC:', roc_auc_score(y_sport_test, lm_sport.predict_proba(X_sport_test)[:, 1]))"
   ]
  },
  {
   "cell_type": "markdown",
   "metadata": {},
   "source": [
    "Теперь сравним результаты на кривые обучения на разных выборках"
   ]
  },
  {
   "cell_type": "code",
   "execution_count": 17,
   "metadata": {},
   "outputs": [],
   "source": [
    "from sklearn.model_selection import learning_curve\n",
    "import matplotlib.pyplot as plt"
   ]
  },
  {
   "cell_type": "code",
   "execution_count": 18,
   "metadata": {},
   "outputs": [
    {
     "name": "stderr",
     "output_type": "stream",
     "text": [
      "c:\\Python310\\lib\\site-packages\\sklearn\\linear_model\\_logistic.py:814: ConvergenceWarning: lbfgs failed to converge (status=1):\n",
      "STOP: TOTAL NO. of ITERATIONS REACHED LIMIT.\n",
      "\n",
      "Increase the number of iterations (max_iter) or scale the data as shown in:\n",
      "    https://scikit-learn.org/stable/modules/preprocessing.html\n",
      "Please also refer to the documentation for alternative solver options:\n",
      "    https://scikit-learn.org/stable/modules/linear_model.html#logistic-regression\n",
      "  n_iter_i = _check_optimize_result(\n",
      "c:\\Python310\\lib\\site-packages\\sklearn\\linear_model\\_logistic.py:814: ConvergenceWarning: lbfgs failed to converge (status=1):\n",
      "STOP: TOTAL NO. of ITERATIONS REACHED LIMIT.\n",
      "\n",
      "Increase the number of iterations (max_iter) or scale the data as shown in:\n",
      "    https://scikit-learn.org/stable/modules/preprocessing.html\n",
      "Please also refer to the documentation for alternative solver options:\n",
      "    https://scikit-learn.org/stable/modules/linear_model.html#logistic-regression\n",
      "  n_iter_i = _check_optimize_result(\n",
      "c:\\Python310\\lib\\site-packages\\sklearn\\linear_model\\_logistic.py:814: ConvergenceWarning: lbfgs failed to converge (status=1):\n",
      "STOP: TOTAL NO. of ITERATIONS REACHED LIMIT.\n",
      "\n",
      "Increase the number of iterations (max_iter) or scale the data as shown in:\n",
      "    https://scikit-learn.org/stable/modules/preprocessing.html\n",
      "Please also refer to the documentation for alternative solver options:\n",
      "    https://scikit-learn.org/stable/modules/linear_model.html#logistic-regression\n",
      "  n_iter_i = _check_optimize_result(\n",
      "c:\\Python310\\lib\\site-packages\\sklearn\\linear_model\\_logistic.py:814: ConvergenceWarning: lbfgs failed to converge (status=1):\n",
      "STOP: TOTAL NO. of ITERATIONS REACHED LIMIT.\n",
      "\n",
      "Increase the number of iterations (max_iter) or scale the data as shown in:\n",
      "    https://scikit-learn.org/stable/modules/preprocessing.html\n",
      "Please also refer to the documentation for alternative solver options:\n",
      "    https://scikit-learn.org/stable/modules/linear_model.html#logistic-regression\n",
      "  n_iter_i = _check_optimize_result(\n",
      "c:\\Python310\\lib\\site-packages\\sklearn\\linear_model\\_logistic.py:814: ConvergenceWarning: lbfgs failed to converge (status=1):\n",
      "STOP: TOTAL NO. of ITERATIONS REACHED LIMIT.\n",
      "\n",
      "Increase the number of iterations (max_iter) or scale the data as shown in:\n",
      "    https://scikit-learn.org/stable/modules/preprocessing.html\n",
      "Please also refer to the documentation for alternative solver options:\n",
      "    https://scikit-learn.org/stable/modules/linear_model.html#logistic-regression\n",
      "  n_iter_i = _check_optimize_result(\n",
      "c:\\Python310\\lib\\site-packages\\sklearn\\linear_model\\_logistic.py:814: ConvergenceWarning: lbfgs failed to converge (status=1):\n",
      "STOP: TOTAL NO. of ITERATIONS REACHED LIMIT.\n",
      "\n",
      "Increase the number of iterations (max_iter) or scale the data as shown in:\n",
      "    https://scikit-learn.org/stable/modules/preprocessing.html\n",
      "Please also refer to the documentation for alternative solver options:\n",
      "    https://scikit-learn.org/stable/modules/linear_model.html#logistic-regression\n",
      "  n_iter_i = _check_optimize_result(\n",
      "c:\\Python310\\lib\\site-packages\\sklearn\\linear_model\\_logistic.py:814: ConvergenceWarning: lbfgs failed to converge (status=1):\n",
      "STOP: TOTAL NO. of ITERATIONS REACHED LIMIT.\n",
      "\n",
      "Increase the number of iterations (max_iter) or scale the data as shown in:\n",
      "    https://scikit-learn.org/stable/modules/preprocessing.html\n",
      "Please also refer to the documentation for alternative solver options:\n",
      "    https://scikit-learn.org/stable/modules/linear_model.html#logistic-regression\n",
      "  n_iter_i = _check_optimize_result(\n",
      "c:\\Python310\\lib\\site-packages\\sklearn\\linear_model\\_logistic.py:814: ConvergenceWarning: lbfgs failed to converge (status=1):\n",
      "STOP: TOTAL NO. of ITERATIONS REACHED LIMIT.\n",
      "\n",
      "Increase the number of iterations (max_iter) or scale the data as shown in:\n",
      "    https://scikit-learn.org/stable/modules/preprocessing.html\n",
      "Please also refer to the documentation for alternative solver options:\n",
      "    https://scikit-learn.org/stable/modules/linear_model.html#logistic-regression\n",
      "  n_iter_i = _check_optimize_result(\n",
      "c:\\Python310\\lib\\site-packages\\sklearn\\linear_model\\_logistic.py:814: ConvergenceWarning: lbfgs failed to converge (status=1):\n",
      "STOP: TOTAL NO. of ITERATIONS REACHED LIMIT.\n",
      "\n",
      "Increase the number of iterations (max_iter) or scale the data as shown in:\n",
      "    https://scikit-learn.org/stable/modules/preprocessing.html\n",
      "Please also refer to the documentation for alternative solver options:\n",
      "    https://scikit-learn.org/stable/modules/linear_model.html#logistic-regression\n",
      "  n_iter_i = _check_optimize_result(\n",
      "c:\\Python310\\lib\\site-packages\\sklearn\\linear_model\\_logistic.py:814: ConvergenceWarning: lbfgs failed to converge (status=1):\n",
      "STOP: TOTAL NO. of ITERATIONS REACHED LIMIT.\n",
      "\n",
      "Increase the number of iterations (max_iter) or scale the data as shown in:\n",
      "    https://scikit-learn.org/stable/modules/preprocessing.html\n",
      "Please also refer to the documentation for alternative solver options:\n",
      "    https://scikit-learn.org/stable/modules/linear_model.html#logistic-regression\n",
      "  n_iter_i = _check_optimize_result(\n",
      "c:\\Python310\\lib\\site-packages\\sklearn\\linear_model\\_logistic.py:814: ConvergenceWarning: lbfgs failed to converge (status=1):\n",
      "STOP: TOTAL NO. of ITERATIONS REACHED LIMIT.\n",
      "\n",
      "Increase the number of iterations (max_iter) or scale the data as shown in:\n",
      "    https://scikit-learn.org/stable/modules/preprocessing.html\n",
      "Please also refer to the documentation for alternative solver options:\n",
      "    https://scikit-learn.org/stable/modules/linear_model.html#logistic-regression\n",
      "  n_iter_i = _check_optimize_result(\n"
     ]
    }
   ],
   "source": [
    "train_sizes_economy, train_scores_economy, test_scores_economy = learning_curve(lm_economy, X_economy_train, y_economy_train, cv=5, scoring='accuracy')"
   ]
  },
  {
   "cell_type": "code",
   "execution_count": 19,
   "metadata": {},
   "outputs": [
    {
     "name": "stderr",
     "output_type": "stream",
     "text": [
      "c:\\Python310\\lib\\site-packages\\sklearn\\linear_model\\_logistic.py:814: ConvergenceWarning: lbfgs failed to converge (status=1):\n",
      "STOP: TOTAL NO. of ITERATIONS REACHED LIMIT.\n",
      "\n",
      "Increase the number of iterations (max_iter) or scale the data as shown in:\n",
      "    https://scikit-learn.org/stable/modules/preprocessing.html\n",
      "Please also refer to the documentation for alternative solver options:\n",
      "    https://scikit-learn.org/stable/modules/linear_model.html#logistic-regression\n",
      "  n_iter_i = _check_optimize_result(\n",
      "c:\\Python310\\lib\\site-packages\\sklearn\\linear_model\\_logistic.py:814: ConvergenceWarning: lbfgs failed to converge (status=1):\n",
      "STOP: TOTAL NO. of ITERATIONS REACHED LIMIT.\n",
      "\n",
      "Increase the number of iterations (max_iter) or scale the data as shown in:\n",
      "    https://scikit-learn.org/stable/modules/preprocessing.html\n",
      "Please also refer to the documentation for alternative solver options:\n",
      "    https://scikit-learn.org/stable/modules/linear_model.html#logistic-regression\n",
      "  n_iter_i = _check_optimize_result(\n",
      "c:\\Python310\\lib\\site-packages\\sklearn\\linear_model\\_logistic.py:814: ConvergenceWarning: lbfgs failed to converge (status=1):\n",
      "STOP: TOTAL NO. of ITERATIONS REACHED LIMIT.\n",
      "\n",
      "Increase the number of iterations (max_iter) or scale the data as shown in:\n",
      "    https://scikit-learn.org/stable/modules/preprocessing.html\n",
      "Please also refer to the documentation for alternative solver options:\n",
      "    https://scikit-learn.org/stable/modules/linear_model.html#logistic-regression\n",
      "  n_iter_i = _check_optimize_result(\n",
      "c:\\Python310\\lib\\site-packages\\sklearn\\linear_model\\_logistic.py:814: ConvergenceWarning: lbfgs failed to converge (status=1):\n",
      "STOP: TOTAL NO. of ITERATIONS REACHED LIMIT.\n",
      "\n",
      "Increase the number of iterations (max_iter) or scale the data as shown in:\n",
      "    https://scikit-learn.org/stable/modules/preprocessing.html\n",
      "Please also refer to the documentation for alternative solver options:\n",
      "    https://scikit-learn.org/stable/modules/linear_model.html#logistic-regression\n",
      "  n_iter_i = _check_optimize_result(\n",
      "c:\\Python310\\lib\\site-packages\\sklearn\\linear_model\\_logistic.py:814: ConvergenceWarning: lbfgs failed to converge (status=1):\n",
      "STOP: TOTAL NO. of ITERATIONS REACHED LIMIT.\n",
      "\n",
      "Increase the number of iterations (max_iter) or scale the data as shown in:\n",
      "    https://scikit-learn.org/stable/modules/preprocessing.html\n",
      "Please also refer to the documentation for alternative solver options:\n",
      "    https://scikit-learn.org/stable/modules/linear_model.html#logistic-regression\n",
      "  n_iter_i = _check_optimize_result(\n",
      "c:\\Python310\\lib\\site-packages\\sklearn\\linear_model\\_logistic.py:814: ConvergenceWarning: lbfgs failed to converge (status=1):\n",
      "STOP: TOTAL NO. of ITERATIONS REACHED LIMIT.\n",
      "\n",
      "Increase the number of iterations (max_iter) or scale the data as shown in:\n",
      "    https://scikit-learn.org/stable/modules/preprocessing.html\n",
      "Please also refer to the documentation for alternative solver options:\n",
      "    https://scikit-learn.org/stable/modules/linear_model.html#logistic-regression\n",
      "  n_iter_i = _check_optimize_result(\n",
      "c:\\Python310\\lib\\site-packages\\sklearn\\linear_model\\_logistic.py:814: ConvergenceWarning: lbfgs failed to converge (status=1):\n",
      "STOP: TOTAL NO. of ITERATIONS REACHED LIMIT.\n",
      "\n",
      "Increase the number of iterations (max_iter) or scale the data as shown in:\n",
      "    https://scikit-learn.org/stable/modules/preprocessing.html\n",
      "Please also refer to the documentation for alternative solver options:\n",
      "    https://scikit-learn.org/stable/modules/linear_model.html#logistic-regression\n",
      "  n_iter_i = _check_optimize_result(\n",
      "c:\\Python310\\lib\\site-packages\\sklearn\\linear_model\\_logistic.py:814: ConvergenceWarning: lbfgs failed to converge (status=1):\n",
      "STOP: TOTAL NO. of ITERATIONS REACHED LIMIT.\n",
      "\n",
      "Increase the number of iterations (max_iter) or scale the data as shown in:\n",
      "    https://scikit-learn.org/stable/modules/preprocessing.html\n",
      "Please also refer to the documentation for alternative solver options:\n",
      "    https://scikit-learn.org/stable/modules/linear_model.html#logistic-regression\n",
      "  n_iter_i = _check_optimize_result(\n",
      "c:\\Python310\\lib\\site-packages\\sklearn\\linear_model\\_logistic.py:814: ConvergenceWarning: lbfgs failed to converge (status=1):\n",
      "STOP: TOTAL NO. of ITERATIONS REACHED LIMIT.\n",
      "\n",
      "Increase the number of iterations (max_iter) or scale the data as shown in:\n",
      "    https://scikit-learn.org/stable/modules/preprocessing.html\n",
      "Please also refer to the documentation for alternative solver options:\n",
      "    https://scikit-learn.org/stable/modules/linear_model.html#logistic-regression\n",
      "  n_iter_i = _check_optimize_result(\n",
      "c:\\Python310\\lib\\site-packages\\sklearn\\linear_model\\_logistic.py:814: ConvergenceWarning: lbfgs failed to converge (status=1):\n",
      "STOP: TOTAL NO. of ITERATIONS REACHED LIMIT.\n",
      "\n",
      "Increase the number of iterations (max_iter) or scale the data as shown in:\n",
      "    https://scikit-learn.org/stable/modules/preprocessing.html\n",
      "Please also refer to the documentation for alternative solver options:\n",
      "    https://scikit-learn.org/stable/modules/linear_model.html#logistic-regression\n",
      "  n_iter_i = _check_optimize_result(\n",
      "c:\\Python310\\lib\\site-packages\\sklearn\\linear_model\\_logistic.py:814: ConvergenceWarning: lbfgs failed to converge (status=1):\n",
      "STOP: TOTAL NO. of ITERATIONS REACHED LIMIT.\n",
      "\n",
      "Increase the number of iterations (max_iter) or scale the data as shown in:\n",
      "    https://scikit-learn.org/stable/modules/preprocessing.html\n",
      "Please also refer to the documentation for alternative solver options:\n",
      "    https://scikit-learn.org/stable/modules/linear_model.html#logistic-regression\n",
      "  n_iter_i = _check_optimize_result(\n",
      "c:\\Python310\\lib\\site-packages\\sklearn\\linear_model\\_logistic.py:814: ConvergenceWarning: lbfgs failed to converge (status=1):\n",
      "STOP: TOTAL NO. of ITERATIONS REACHED LIMIT.\n",
      "\n",
      "Increase the number of iterations (max_iter) or scale the data as shown in:\n",
      "    https://scikit-learn.org/stable/modules/preprocessing.html\n",
      "Please also refer to the documentation for alternative solver options:\n",
      "    https://scikit-learn.org/stable/modules/linear_model.html#logistic-regression\n",
      "  n_iter_i = _check_optimize_result(\n",
      "c:\\Python310\\lib\\site-packages\\sklearn\\linear_model\\_logistic.py:814: ConvergenceWarning: lbfgs failed to converge (status=1):\n",
      "STOP: TOTAL NO. of ITERATIONS REACHED LIMIT.\n",
      "\n",
      "Increase the number of iterations (max_iter) or scale the data as shown in:\n",
      "    https://scikit-learn.org/stable/modules/preprocessing.html\n",
      "Please also refer to the documentation for alternative solver options:\n",
      "    https://scikit-learn.org/stable/modules/linear_model.html#logistic-regression\n",
      "  n_iter_i = _check_optimize_result(\n"
     ]
    }
   ],
   "source": [
    "train_sizes_culture, train_scores_culture, test_scores_culture = learning_curve(lm__culture, X_culture_train, y_culture_train, cv=5, scoring='accuracy')"
   ]
  },
  {
   "cell_type": "code",
   "execution_count": 20,
   "metadata": {},
   "outputs": [
    {
     "name": "stderr",
     "output_type": "stream",
     "text": [
      "c:\\Python310\\lib\\site-packages\\sklearn\\linear_model\\_logistic.py:814: ConvergenceWarning: lbfgs failed to converge (status=1):\n",
      "STOP: TOTAL NO. of ITERATIONS REACHED LIMIT.\n",
      "\n",
      "Increase the number of iterations (max_iter) or scale the data as shown in:\n",
      "    https://scikit-learn.org/stable/modules/preprocessing.html\n",
      "Please also refer to the documentation for alternative solver options:\n",
      "    https://scikit-learn.org/stable/modules/linear_model.html#logistic-regression\n",
      "  n_iter_i = _check_optimize_result(\n",
      "c:\\Python310\\lib\\site-packages\\sklearn\\linear_model\\_logistic.py:814: ConvergenceWarning: lbfgs failed to converge (status=1):\n",
      "STOP: TOTAL NO. of ITERATIONS REACHED LIMIT.\n",
      "\n",
      "Increase the number of iterations (max_iter) or scale the data as shown in:\n",
      "    https://scikit-learn.org/stable/modules/preprocessing.html\n",
      "Please also refer to the documentation for alternative solver options:\n",
      "    https://scikit-learn.org/stable/modules/linear_model.html#logistic-regression\n",
      "  n_iter_i = _check_optimize_result(\n",
      "c:\\Python310\\lib\\site-packages\\sklearn\\linear_model\\_logistic.py:814: ConvergenceWarning: lbfgs failed to converge (status=1):\n",
      "STOP: TOTAL NO. of ITERATIONS REACHED LIMIT.\n",
      "\n",
      "Increase the number of iterations (max_iter) or scale the data as shown in:\n",
      "    https://scikit-learn.org/stable/modules/preprocessing.html\n",
      "Please also refer to the documentation for alternative solver options:\n",
      "    https://scikit-learn.org/stable/modules/linear_model.html#logistic-regression\n",
      "  n_iter_i = _check_optimize_result(\n",
      "c:\\Python310\\lib\\site-packages\\sklearn\\linear_model\\_logistic.py:814: ConvergenceWarning: lbfgs failed to converge (status=1):\n",
      "STOP: TOTAL NO. of ITERATIONS REACHED LIMIT.\n",
      "\n",
      "Increase the number of iterations (max_iter) or scale the data as shown in:\n",
      "    https://scikit-learn.org/stable/modules/preprocessing.html\n",
      "Please also refer to the documentation for alternative solver options:\n",
      "    https://scikit-learn.org/stable/modules/linear_model.html#logistic-regression\n",
      "  n_iter_i = _check_optimize_result(\n",
      "c:\\Python310\\lib\\site-packages\\sklearn\\linear_model\\_logistic.py:814: ConvergenceWarning: lbfgs failed to converge (status=1):\n",
      "STOP: TOTAL NO. of ITERATIONS REACHED LIMIT.\n",
      "\n",
      "Increase the number of iterations (max_iter) or scale the data as shown in:\n",
      "    https://scikit-learn.org/stable/modules/preprocessing.html\n",
      "Please also refer to the documentation for alternative solver options:\n",
      "    https://scikit-learn.org/stable/modules/linear_model.html#logistic-regression\n",
      "  n_iter_i = _check_optimize_result(\n",
      "c:\\Python310\\lib\\site-packages\\sklearn\\linear_model\\_logistic.py:814: ConvergenceWarning: lbfgs failed to converge (status=1):\n",
      "STOP: TOTAL NO. of ITERATIONS REACHED LIMIT.\n",
      "\n",
      "Increase the number of iterations (max_iter) or scale the data as shown in:\n",
      "    https://scikit-learn.org/stable/modules/preprocessing.html\n",
      "Please also refer to the documentation for alternative solver options:\n",
      "    https://scikit-learn.org/stable/modules/linear_model.html#logistic-regression\n",
      "  n_iter_i = _check_optimize_result(\n",
      "c:\\Python310\\lib\\site-packages\\sklearn\\linear_model\\_logistic.py:814: ConvergenceWarning: lbfgs failed to converge (status=1):\n",
      "STOP: TOTAL NO. of ITERATIONS REACHED LIMIT.\n",
      "\n",
      "Increase the number of iterations (max_iter) or scale the data as shown in:\n",
      "    https://scikit-learn.org/stable/modules/preprocessing.html\n",
      "Please also refer to the documentation for alternative solver options:\n",
      "    https://scikit-learn.org/stable/modules/linear_model.html#logistic-regression\n",
      "  n_iter_i = _check_optimize_result(\n"
     ]
    }
   ],
   "source": [
    "train_sizes_sport, train_scores_sport, test_scores_sport = learning_curve(lm_sport, X_sport_train, y_sport_train, cv=5, scoring='accuracy')"
   ]
  },
  {
   "cell_type": "code",
   "execution_count": 21,
   "metadata": {},
   "outputs": [
    {
     "data": {
      "image/png": "[encoded data removed]",
      "text/plain": [
       "<Figure size 1800x504 with 2 Axes>"
      ]
     },
     "metadata": {
      "needs_background": "light"
     },
     "output_type": "display_data"
    }
   ],
   "source": [
    "fig, axes = plt.subplots(1, 2, figsize=(25, 7))\n",
    "\n",
    "axes[0].plot(train_sizes_sport, np.mean(train_scores_sport, axis=1), label='Спорт', marker='o')\n",
    "axes[0].plot(train_sizes_culture, np.mean(train_scores_culture, axis=1), label='Культура', marker='o')\n",
    "axes[0].plot(train_sizes_economy, np.mean(train_scores_economy, axis=1), label='Экономика', marker='o')\n",
    "\n",
    "axes[0].set_title('Кривая обучения - обучающая выборка')\n",
    "axes[0].set_xlabel('Размер обучающей выборки')\n",
    "axes[0].set_ylabel('Оценка точности')\n",
    "axes[0].legend()\n",
    "axes[0].grid(True)\n",
    "\n",
    "axes[1].plot(train_sizes_sport, np.mean(test_scores_sport, axis=1), label='Спорт', marker='o')\n",
    "axes[1].plot(train_sizes_culture, np.mean(test_scores_culture, axis=1), label='Культура', marker='o')\n",
    "axes[1].plot(train_sizes_economy, np.mean(test_scores_economy, axis=1), label='Экономика', marker='o')\n",
    "\n",
    "axes[1].set_title('Кривая обучения - тестовая выборка')\n",
    "axes[1].set_xlabel('Размер тестовой выборки')\n",
    "axes[1].set_ylabel('Оценка точности')\n",
    "axes[1].legend()\n",
    "axes[1].grid(True)\n",
    "\n",
    "plt.show()"
   ]
  },
  {
   "cell_type": "code",
   "execution_count": 28,
   "metadata": {},
   "outputs": [],
   "source": [
    "# удаляю некоторые переменные, чтобы освободить память\n",
    "del X_sport\n",
    "del X_culture\n",
    "del y_culture_test\n",
    "del y_culture_train\n",
    "del y_sport_test\n",
    "del y_sport_train"
   ]
  },
  {
   "cell_type": "markdown",
   "metadata": {},
   "source": [
    "**топика \"Экономика\":**\n",
    "На тестовой выборке график быстро возрастает вверх, а также он схож с обучающей выборки. И можно сказать, что выборка хорошо подобрана. \n",
    "\n",
    "**топика \"Культура\":**\n",
    "На тестовой выборке график достаточно быстро растет, но он сильно отличается от обучающей выборки, можно предположить, что происходит переобучение модели, поэтому стоит выбрать выборку больше.\n",
    "\n",
    "**топика \"Спорт\":**\n",
    "На тестовой выборке график достаточно быстро растет, но на обучающей выборке график даже уходит вниз, что тоже является показателем плохой выборки.\n",
    "\n",
    "Для дальнейшей работы выбирим топик \"Экономика\" и сделаем модель с лемматизацей для сравнения. "
   ]
  },
  {
   "cell_type": "markdown",
   "metadata": {},
   "source": [
    "**Лемматизация**"
   ]
  },
  {
   "cell_type": "code",
   "execution_count": 29,
   "metadata": {},
   "outputs": [
    {
     "name": "stderr",
     "output_type": "stream",
     "text": [
      "C:\\Users\\User\\AppData\\Local\\Temp\\ipykernel_4676\\1210847414.py:5: SettingWithCopyWarning: \n",
      "A value is trying to be set on a copy of a slice from a DataFrame\n",
      "\n",
      "See the caveats in the documentation: https://pandas.pydata.org/pandas-docs/stable/user_guide/indexing.html#returning-a-view-versus-a-copy\n",
      "  df_economy_lem.dropna(inplace=True)\n"
     ]
    }
   ],
   "source": [
    "df_economy_lem = df\n",
    "df_economy_lem['target'] = (df_economy_lem['topic'] == 'Экономика').astype(np.int8)\n",
    "df_economy_lem = df_economy_lem[['text', 'target']]\n",
    "\n",
    "df_economy_lem.dropna(inplace=True)"
   ]
  },
  {
   "cell_type": "code",
   "execution_count": 30,
   "metadata": {},
   "outputs": [],
   "source": [
    "X_economy_lem = vectorizer.fit_transform(df_economy_lem.text)"
   ]
  },
  {
   "cell_type": "code",
   "execution_count": 31,
   "metadata": {},
   "outputs": [],
   "source": [
    "scaler = StandardScaler(with_mean=False)\n",
    "pipeline = make_pipeline(vectorizer, scaler)"
   ]
  },
  {
   "cell_type": "code",
   "execution_count": 32,
   "metadata": {},
   "outputs": [],
   "source": [
    "X_lem = pipeline.fit_transform(df_economy_lem.text)"
   ]
  },
  {
   "cell_type": "code",
   "execution_count": 33,
   "metadata": {},
   "outputs": [],
   "source": [
    "X_economy_lem_train, X_economy_lem_test, y_economy_lem_train, y_economy_lem_test = train_test_split(X_lem, df_economy_lem.target, test_size=0.2, random_state=42, stratify=df_economy_lem.target)"
   ]
  },
  {
   "cell_type": "code",
   "execution_count": 34,
   "metadata": {},
   "outputs": [
    {
     "name": "stdout",
     "output_type": "stream",
     "text": [
      "Accuracy: 0.9929452816830181\n",
      "ROC_AUC: 0.9992687375229908\n"
     ]
    }
   ],
   "source": [
    "lm_economy_lem = LogisticRegression()\n",
    "lm_economy_lem.fit(X_economy_lem_train, y_economy_lem_train)\n",
    "\n",
    "print('Accuracy:', accuracy_score(y_economy_lem_test, lm_economy_lem.predict(X_economy_lem_test)))\n",
    "print('ROC_AUC:', roc_auc_score(y_economy_lem_test, lm_economy_lem.predict_proba(X_economy_lem_test)[:, 1]))"
   ]
  },
  {
   "cell_type": "code",
   "execution_count": 35,
   "metadata": {},
   "outputs": [
    {
     "name": "stderr",
     "output_type": "stream",
     "text": [
      "c:\\Python310\\lib\\site-packages\\sklearn\\linear_model\\_logistic.py:814: ConvergenceWarning: lbfgs failed to converge (status=1):\n",
      "STOP: TOTAL NO. of ITERATIONS REACHED LIMIT.\n",
      "\n",
      "Increase the number of iterations (max_iter) or scale the data as shown in:\n",
      "    https://scikit-learn.org/stable/modules/preprocessing.html\n",
      "Please also refer to the documentation for alternative solver options:\n",
      "    https://scikit-learn.org/stable/modules/linear_model.html#logistic-regression\n",
      "  n_iter_i = _check_optimize_result(\n"
     ]
    }
   ],
   "source": [
    "train_sizes_economy_lem, train_scores_economy_lem, test_scores_economy_lem = learning_curve(lm_economy_lem, X_economy_lem_train, y_economy_lem_train, cv=5, scoring='accuracy')"
   ]
  },
  {
   "cell_type": "code",
   "execution_count": 36,
   "metadata": {},
   "outputs": [
    {
     "data": {
      "image/png": "[encoded data removed]",
      "text/plain": [
       "<Figure size 1800x504 with 2 Axes>"
      ]
     },
     "metadata": {
      "needs_background": "light"
     },
     "output_type": "display_data"
    }
   ],
   "source": [
    "fig, axes1 = plt.subplots(1, 2, figsize=(25, 7))\n",
    "\n",
    "axes1[0].plot(train_sizes_economy, np.mean(train_scores_economy, axis=1), label='Экономика', marker='o')\n",
    "axes1[0].plot(train_sizes_economy_lem, np.mean(train_scores_economy_lem, axis=1), label='Экономика с лемматизация', marker='o')\n",
    "\n",
    "axes1[0].set_title('Кривая обучения - обучающая выборка')\n",
    "axes1[0].set_xlabel('Размер обучающей выборки')\n",
    "axes1[0].set_ylabel('Оценка точности')\n",
    "axes1[0].legend()\n",
    "axes1[0].grid(True)\n",
    "\n",
    "axes1[1].plot(train_sizes_economy, np.mean(test_scores_economy, axis=1), label='Экономика', marker='o')\n",
    "axes1[1].plot(train_sizes_economy_lem, np.mean(test_scores_economy_lem, axis=1), label='Экономика с лемматизация', marker='o')\n",
    "\n",
    "axes1[1].set_title('Кривая обучения - тестовая выборка')\n",
    "axes1[1].set_xlabel('Размер тестовой выборки')\n",
    "axes1[1].set_ylabel('Оценка точности')\n",
    "axes1[1].legend()\n",
    "axes1[1].grid(True)"
   ]
  },
  {
   "cell_type": "markdown",
   "metadata": {},
   "source": [
    "**Результаты экономики без лемматизации**\n",
    "\n",
    "     Accuracy: 0.9942095681197533\n",
    "     ROC_AUC: 0.9996068418114106\n",
    "\n",
    "**Результаты экономики с лемматизации**\n",
    "\n",
    "      Accuracy: 0.9929452816830181\n",
    "      ROC_AUC: 0.9992687375229908\n",
    "\n",
    "После лемматизации точность (accuracy) уменьшилась, как и  ROC AUC. На графике также видно, что модели ухудшилась. \n",
    "Можно предположить, что из-за приведения слов к нормальному виду они потеряли свое значение, которое могло быть важно для модели  \n"
   ]
  },
  {
   "cell_type": "markdown",
   "metadata": {},
   "source": [
    "### 3. Вложения (эмбеддинги) слов:\n",
    "    3.1. Загрузить модель эмбеддингов слов, обученную на художественной литературе (см. https://github.com/natasha/navec). Для выбранного набора слов сопоставить схожие слова(расположенные рядом в пространстве вложения) и рассуждение по аналогии. Есть ли разница с моделью вложений, обученной на новостных сообщениях?"
   ]
  },
  {
   "cell_type": "markdown",
   "metadata": {},
   "source": [
    "Выдвиним гипотезу для сравнения модели эмбеддингов слов, обученную на художественной литературе, и модели,обученной на новостных сообщениях."
   ]
  },
  {
   "cell_type": "markdown",
   "metadata": {},
   "source": [
    "Попробуем использовать эмбеддинги для поиска близких по значению слов (нужно помнить, что это не синонимы в полной мере) и для рассуждения по аналогии. Для этого реализуем пару функций, осуществляющих поиск слов, ближайших к заданному вектору:"
   ]
  },
  {
   "cell_type": "code",
   "execution_count": 37,
   "metadata": {},
   "outputs": [],
   "source": [
    "import heapq\n",
    "\n",
    "def euclidean_distance(x, y):\n",
    "    return np.linalg.norm(x - y)\n",
    "\n",
    "def cosine_similarity(x, y):\n",
    "    return np.dot(x, y) / (np.linalg.norm(x) * np.linalg.norm(y))\n",
    "\n",
    "def find_closest_words(emb, words, k=5, similarity=cosine_similarity):\n",
    "    \"\"\"Поиск k ближайших слов для каждого слова из списка.\"\"\"\n",
    "    result = {}\n",
    "    for word in words:\n",
    "        word_vector = emb[word]\n",
    "        word_distances = [(-similarity(emb[other_word], word_vector), other_word) for other_word in emb.vocab.words]\n",
    "        closest_words = heapq.nsmallest(k, word_distances)\n",
    "        result[word] = [w for (_, w) in closest_words]\n",
    "    return result\n"
   ]
  },
  {
   "cell_type": "markdown",
   "metadata": {},
   "source": [
    "Теперь попробуем дать на вход нашей модели вложений пример слов и посмотрим, какие слова она предоставит в качестве схожих. "
   ]
  },
  {
   "cell_type": "code",
   "execution_count": 38,
   "metadata": {},
   "outputs": [],
   "source": [
    "example_words = ['выборы', 'блок', 'закон', 'фигура', 'событие']"
   ]
  },
  {
   "cell_type": "code",
   "execution_count": 41,
   "metadata": {},
   "outputs": [
    {
     "name": "stderr",
     "output_type": "stream",
     "text": [
      "C:\\Users\\User\\AppData\\Local\\Temp\\ipykernel_4676\\1431814167.py:7: RuntimeWarning: invalid value encountered in float_scalars\n",
      "  return np.dot(x, y) / (np.linalg.norm(x) * np.linalg.norm(y))\n"
     ]
    },
    {
     "name": "stdout",
     "output_type": "stream",
     "text": [
      "Ближайшие слова для'выборы': ['выборы', 'президентские', 'выборов', 'выборах', 'досрочные']\n",
      "Ближайшие слова для'блок': ['блок', 'блока', 'оппозиционный', 'бпп', 'разгонный']\n",
      "Ближайшие слова для'закон': ['закон', 'законопроект', 'закона', 'чтении', 'принятый']\n",
      "Ближайшие слова для'фигура': ['фигура', 'знаковая', 'фигурой', 'культовая', 'заметная']\n",
      "Ближайшие слова для'событие': ['событие', 'знаковое', 'событием', 'знаменательное', 'важное']\n"
     ]
    }
   ],
   "source": [
    "closest_words_dict = find_closest_words(emb, example_words, k=5, similarity=cosine_similarity)\n",
    "\n",
    "# Вывод ближайших слов для каждого из примеров\n",
    "for word, closest_words in closest_words_dict.items():\n",
    "    print(f\"Ближайшие слова для'{word}': {closest_words}\")\n"
   ]
  },
  {
   "cell_type": "markdown",
   "metadata": {},
   "source": [
    "Библиотека natasha предоставляет специальный класс NavecEmbedding, совместимый с фреймворком PyTorch (т.е., реализующий torch.nn.Module), и предназначенный для перевода номеров слов в вектора эмбеддингов в рамках нейронных сетей, созданных с помощью этого фреймворка. Проверим какие схожие слова данная модель подберет для нашего набора слов"
   ]
  },
  {
   "cell_type": "code",
   "execution_count": 42,
   "metadata": {},
   "outputs": [],
   "source": [
    "import torch\n",
    "from slovnet.model.emb import NavecEmbedding\n",
    "from navec import Navec"
   ]
  },
  {
   "cell_type": "code",
   "execution_count": 43,
   "metadata": {},
   "outputs": [],
   "source": [
    "navec = Navec.load(r'C:\\Users\\User\\Downloads\\navec_hudlit_v1_12B_500K_300d_100q.tar')"
   ]
  },
  {
   "cell_type": "code",
   "execution_count": 44,
   "metadata": {},
   "outputs": [
    {
     "name": "stderr",
     "output_type": "stream",
     "text": [
      "c:\\Python310\\lib\\site-packages\\slovnet\\model\\emb.py:46: UserWarning: The given NumPy array is not writable, and PyTorch does not support non-writable tensors. This means writing to this tensor will result in undefined behavior. You may want to copy the array to protect its data or make it writable before converting it to a tensor. This type of warning will be suppressed for the rest of this program. (Triggered internally at ..\\torch\\csrc\\utils\\tensor_numpy.cpp:212.)\n",
      "  torch.from_numpy(navec.pq.indexes),\n"
     ]
    }
   ],
   "source": [
    "emb_layer = NavecEmbedding(emb)"
   ]
  },
  {
   "cell_type": "code",
   "execution_count": 45,
   "metadata": {},
   "outputs": [
    {
     "data": {
      "text/plain": [
       "torch.Size([3, 300])"
      ]
     },
     "execution_count": 45,
     "metadata": {},
     "output_type": "execute_result"
    }
   ],
   "source": [
    "input = torch.tensor([1, 2, 3])\n",
    "emb_layer(input).shape"
   ]
  },
  {
   "cell_type": "code",
   "execution_count": 46,
   "metadata": {},
   "outputs": [],
   "source": [
    "def find_similar_words(word, navec, topn=5):\n",
    "    word_vector = navec[word]\n",
    "    similar_words = []\n",
    "\n",
    "    for other_word in navec.vocab.words:\n",
    "        if other_word != word:\n",
    "            other_vector = navec[other_word]\n",
    "            similarity = np.dot(word_vector, other_vector) / (np.linalg.norm(word_vector) * np.linalg.norm(other_vector))\n",
    "            similar_words.append((other_word, similarity))\n",
    "\n",
    "    similar_words = sorted(similar_words, key=lambda x: x[1], reverse=True)\n",
    "\n",
    "    top_similar_words = similar_words[:topn]\n",
    "    return top_similar_words\n"
   ]
  },
  {
   "cell_type": "code",
   "execution_count": 47,
   "metadata": {},
   "outputs": [
    {
     "name": "stderr",
     "output_type": "stream",
     "text": [
      "C:\\Users\\User\\AppData\\Local\\Temp\\ipykernel_4676\\4233101760.py:8: RuntimeWarning: invalid value encountered in float_scalars\n",
      "  similarity = np.dot(word_vector, other_vector) / (np.linalg.norm(word_vector) * np.linalg.norm(other_vector))\n"
     ]
    },
    {
     "name": "stdout",
     "output_type": "stream",
     "text": [
      "\n",
      "Ближайшие слова для 'выборы': выборов, президентские, выборах, парламентские, выборами, \n",
      "\n",
      "Ближайшие слова для 'блок': блока, блоке, блоком, блоку, модуль, \n",
      "\n",
      "Ближайшие слова для 'закон': закона, законы, закону, законом, принцип, \n",
      "\n",
      "Ближайшие слова для 'фигура': фигурка, фигуру, силуэт, стройная, темная, \n",
      "\n",
      "Ближайшие слова для 'событие': происшествие, знаменательное, событием, события, случившееся, \n"
     ]
    }
   ],
   "source": [
    "for search_word in example_words:\n",
    "    similar_words = find_similar_words(search_word, navec, topn=5)\n",
    "    print(f\"\\nБлижайшие слова для '{search_word}':\", end=' ')\n",
    "    for word, similarity in similar_words:\n",
    "        print(f\"{word}\", end=', ')\n",
    "    print() "
   ]
  },
  {
   "cell_type": "markdown",
   "metadata": {},
   "source": [
    "Действительно, слова подбирается по разному смыслу. \n",
    "\n",
    "Для слова \"блок\" в \"новостоном\" контексте побирается слова \"бпп, оппозиционный\", что больше относится к политике. А вот в \"литературном\" контексте такого смысла нет и модель подбирает схожие слова в значение оконченного смыслового контекста, как слово \"модуль\", например, которое можно отнести к завершению обучающего модуля.\n",
    "\n",
    "Аналогичное можно сказать и про слово \"закон\", так как в новостях она чаще несет смысл какого-то законопроекта, поэтому и подобранны слова \"законопроект, чтение, принятие\". В литературе же чаще всего это слово может нести значение каких-то законов, которых придерживается человек. Это хорошо видно из подобранного слова \"принцип\".\n",
    "\n",
    "Слово \"фигура\" тоже имеет разный смысл в этих двух контекстах: в литературе - строение человека, силуэт, в новостях - какой-то человек, популярная личность \n",
    "\n",
    "А вот слова \"выбор\" и \"событие\" схожие в данных контекстах. Но все же мне кажется, что в новостях выборы имеют смысл выбора в призеденты/парламент и т.д., а вот в литературе - выбор перед человеком, но слова подобранны не совсем точно. А вот событие имеет смысл происшествия в обоих контекстах.\n",
    "\n",
    "\n"
   ]
  },
  {
   "cell_type": "markdown",
   "metadata": {},
   "source": [
    "### 4. Нейросетевая обработка текстов:\n",
    "    4.1. Тематический классификатор новостей на основе LSTM демонстрирует очень высокое качество классификации буквально с первой эпохи обучения. Но является ли это «заслугой» LSTM или качественного набора эмбеддингов? Реализуйте простейший классификатор сообщений, в котором на вход полносвязному слою передается просто среднее арифметическое эмбеддингов слов. Сопоставьте качество классификации с моделью на основе LSTM."
   ]
  },
  {
   "cell_type": "code",
   "execution_count": 48,
   "metadata": {},
   "outputs": [],
   "source": [
    "import torch.nn as nn\n",
    "import torch \n",
    "from natasha import Segmenter"
   ]
  },
  {
   "cell_type": "markdown",
   "metadata": {},
   "source": [
    "Для этого возьмем наш готовый датафрейм df_economy"
   ]
  },
  {
   "cell_type": "code",
   "execution_count": 49,
   "metadata": {},
   "outputs": [],
   "source": [
    "class SmartTokenizer:\n",
    "    \"\"\"Класс для выделения токенов.\n",
    "    \n",
    "    Использует библиотеку natasha для токенизации и лемматизации,\n",
    "    оставляет только существительные и глаголы.\"\"\"\n",
    "    \n",
    "    def __init__(self):\n",
    "        emb = natasha.NewsEmbedding()\n",
    "        self.segmenter = natasha.Segmenter()\n",
    "        self.morph_tagger = natasha.NewsMorphTagger(emb)\n",
    "        self.morph_vocab = natasha.MorphVocab()\n",
    "    \n",
    "    def __call__(self, text):\n",
    "        doc = natasha.Doc(text)\n",
    "        doc.segment(self.segmenter)\n",
    "        doc.tag_morph(self.morph_tagger)\n",
    "        tokens = []\n",
    "        for token in doc.tokens:\n",
    "            if token.pos in ['NOUN', 'VERB']:\n",
    "                token.lemmatize(morph_vocab)\n",
    "                tokens.append(token.lemma)\n",
    "        return tokens\n",
    "\n",
    "improved_vectorizer = CountVectorizer(\n",
    "    tokenizer=SmartTokenizer(),\n",
    "    token_pattern=None,\n",
    "    max_df=0.7,    # Делать признаками слова, которые содержатся в не более, чем заданной доле документов\n",
    "    min_df=10      # Делать признаки из слов, которые содержатся, по крайней мере, в заданном количестве документов\n",
    ")\n",
    "\n",
    "morph_vocab = natasha.MorphVocab()"
   ]
  },
  {
   "cell_type": "code",
   "execution_count": 50,
   "metadata": {},
   "outputs": [],
   "source": [
    "df_test = df_economy[:1000].copy()\n",
    "df_train = df_economy[1000:].copy().reset_index(drop=True)"
   ]
  },
  {
   "cell_type": "code",
   "execution_count": 51,
   "metadata": {},
   "outputs": [],
   "source": [
    "emb = natasha.NewsEmbedding()\n",
    "segmenter = Segmenter()\n",
    "\n",
    "def text_to_ids(emb, text: str, length: int) -> torch.tensor:\n",
    "    \"\"\"Преобразование строки в тензор с номерами токенов.\"\"\"\n",
    "    # Пунктуационные токены (их кодировать не будем)\n",
    "    punct = [',', '.', ';', ':', '-', '...', '!', '?']\n",
    "    # Проведем токенизацию текста\n",
    "    d = natasha.Doc(text)\n",
    "    d.segment(segmenter)\n",
    "    # Для каждого токена, который найдется в словаре эмбеддингов подставим\n",
    "    # его номер, для прочих подставим номер <unk>\n",
    "    tmp = torch.tensor([emb.vocab.get(x.text.lower(), emb.vocab.unk_id)\n",
    "                       for x in d.tokens\n",
    "                       if x.text not in punct][:length])\n",
    "    # Дополним последовательность (спереди) токенами <pad>\n",
    "    return torch.nn.functional.pad(tmp, (length - len(tmp), 0), \"constant\", emb.vocab.pad_id)"
   ]
  },
  {
   "cell_type": "code",
   "execution_count": 52,
   "metadata": {},
   "outputs": [],
   "source": [
    "X = torch.stack([text_to_ids(emb, x, 50) for x in df_economy.text], 0)\n",
    "y = torch.unsqueeze(torch.tensor(df_economy.target, dtype=torch.float32), 1)"
   ]
  },
  {
   "cell_type": "code",
   "execution_count": 53,
   "metadata": {},
   "outputs": [],
   "source": [
    "X_test = torch.stack([text_to_ids(emb, x, 50) for x in df_test.text], 0)\n",
    "y_test = torch.unsqueeze(torch.tensor(df_test.target, dtype=torch.float32), 1)"
   ]
  },
  {
   "cell_type": "code",
   "execution_count": 54,
   "metadata": {},
   "outputs": [],
   "source": [
    "data_loader = torch.utils.data.DataLoader(torch.utils.data.TensorDataset(X, y), batch_size=8)\n",
    "test_data_loader = torch.utils.data.DataLoader(torch.utils.data.TensorDataset(X_test, y_test), batch_size=16, shuffle=False)"
   ]
  },
  {
   "cell_type": "code",
   "execution_count": 55,
   "metadata": {},
   "outputs": [],
   "source": [
    "class SimpleLSTMClassifier(nn.Module):\n",
    "    \"\"\"Простой классификатор текста.\"\"\"\n",
    "    \n",
    "    def __init__(self):\n",
    "        super().__init__()\n",
    "        # Специальная обёртка, позволяющая использовать\n",
    "        # эмбеддинги natasha как слой сети PyTorch\n",
    "        self.embedding = NavecEmbedding(emb)\n",
    "        # LSTM-слой.\n",
    "        # Обратите внимание на batch_first=True !\n",
    "        # По умолчанию этот параметр равен False и первая размерность\n",
    "        # интерпретируется как длина последовательности, а не батча - \n",
    "        # если это не поменять, то сеть будет учиться на \"каше\" из данных\n",
    "        self.lstm = nn.LSTM(300,   # размерность элемента последовательности (эмбеддинга)\n",
    "                            30,    # выходная размерность\n",
    "                            batch_first=True)\n",
    "        self.fc = nn.Linear(30, 1)\n",
    "        self.sigmoid = nn.Sigmoid()\n",
    "    \n",
    "    def forward(self, x):\n",
    "        x = self.embedding(x)\n",
    "        x, _ = self.lstm(x)\n",
    "        # Используйте размерность 1, чтобы выбрать последний временной шаг\n",
    "        x = x[:, -1, :]\n",
    "        x = self.fc(x)\n",
    "        x = self.sigmoid(x)\n",
    "        return x"
   ]
  },
  {
   "cell_type": "code",
   "execution_count": 56,
   "metadata": {},
   "outputs": [],
   "source": [
    "model = SimpleLSTMClassifier()"
   ]
  },
  {
   "cell_type": "markdown",
   "metadata": {},
   "source": [
    "Обученим модель и посмотрим результаты тестов "
   ]
  },
  {
   "cell_type": "code",
   "execution_count": 57,
   "metadata": {},
   "outputs": [
    {
     "name": "stdout",
     "output_type": "stream",
     "text": [
      "Epoch 0: train loss=0.6932. Test accuracy 0.9000 ROC_AUC 0.9945\n",
      "Epoch 1: train loss=0.6932. Test accuracy 0.9000 ROC_AUC 0.9960\n",
      "Epoch 2: train loss=0.6931. Test accuracy 0.9030 ROC_AUC 0.9979\n",
      "Epoch 3: train loss=0.6931. Test accuracy 0.9400 ROC_AUC 0.9986\n",
      "Epoch 4: train loss=0.6931. Test accuracy 0.9840 ROC_AUC 0.9975\n"
     ]
    }
   ],
   "source": [
    "criterion = torch.nn.BCEWithLogitsLoss()\n",
    "optimizer = torch.optim.Adam(model.parameters(), 1e-3)\n",
    "\n",
    "for epoch in range(5):\n",
    "    model.train()\n",
    "    for X, y in data_loader:\n",
    "        optimizer.zero_grad()\n",
    "        pred_logits = model(X)\n",
    "        loss = criterion(pred_logits, y)\n",
    "        loss.backward()\n",
    "        optimizer.step()\n",
    "    model.eval()\n",
    "    preds = []\n",
    "    with torch.no_grad():\n",
    "        for X, y in test_data_loader:\n",
    "            pred_logits = model(X)\n",
    "            preds.append(torch.sigmoid(pred_logits))\n",
    "    preds = torch.cat(preds)\n",
    "    print(f'Epoch {epoch}: train loss={loss.detach().item():.4f}. ' \\\n",
    "          f'Test accuracy {accuracy_score(df_test.target, preds.numpy() > 0.5):.4f} ' \\\n",
    "          f'ROC_AUC {roc_auc_score(df_test.target, preds.numpy()):.4f}')"
   ]
  },
  {
   "cell_type": "markdown",
   "metadata": {},
   "source": [
    "Напомним, что результат качественного набора для набора с топиком \"Экономика\"\n",
    "\n",
    "    Accuracy: 0.9942095681197533\n",
    "    ROC_AUC: 0.9996068418114106\n",
    "\n",
    "Обе модели показывают высокую точность и хороший показатель ROC-AUC, что свидетельствует о хорошей способности моделей разделять классы. Векторная модель достигает более высоких значений метрик. Похоже, что векторная модель в данном случае лучше справляется с задачей классификации на выбранном наборе. \n",
    "\n",
    "Высокое качество классификации,  является результатом успешного сочетания обоих факторов: эффективной архитектуры LSTM и качественных эмбеддингов natasha.NewsEmbedding"
   ]
  },
  {
   "cell_type": "markdown",
   "metadata": {},
   "source": [
    "     4.2. Проведите анализ ошибок – найдите новости, на которых модель ошибается, и предложите разумные объяснения этому.\n",
    "\n",
    "Для этого запустим модель на тестовой выборке и определим новости, в которых модель ошибается "
   ]
  },
  {
   "cell_type": "code",
   "execution_count": 58,
   "metadata": {},
   "outputs": [],
   "source": [
    "model.eval()\n",
    "all_preds = []\n",
    "with torch.no_grad():\n",
    "    for X, y in test_data_loader:\n",
    "        pred_logits = model(X)\n",
    "        preds = torch.sigmoid(pred_logits)\n",
    "        all_preds.append(preds)\n",
    "\n",
    "all_preds = torch.cat(all_preds)\n",
    "\n",
    "df_test['predicted'] = (all_preds.numpy() > 0.5).astype(int)\n",
    "\n",
    "errors_df = df_test[df_test['target'] != df_test['predicted']]"
   ]
  },
  {
   "cell_type": "code",
   "execution_count": 59,
   "metadata": {},
   "outputs": [],
   "source": [
    "pd.set_option('display.max_colwidth', None)"
   ]
  },
  {
   "cell_type": "code",
   "execution_count": 60,
   "metadata": {},
   "outputs": [
    {
     "data": {
      "text/html": [
       "<div>\n",
       "<style scoped>\n",
       "    .dataframe tbody tr th:only-of-type {\n",
       "        vertical-align: middle;\n",
       "    }\n",
       "\n",
       "    .dataframe tbody tr th {\n",
       "        vertical-align: top;\n",
       "    }\n",
       "\n",
       "    .dataframe thead th {\n",
       "        text-align: right;\n",
       "    }\n",
       "</style>\n",
       "<table border=\"1\" class=\"dataframe\">\n",
       "  <thead>\n",
       "    <tr style=\"text-align: right;\">\n",
       "      <th></th>\n",
       "      <th>text</th>\n",
       "      <th>target</th>\n",
       "      <th>predicted</th>\n",
       "    </tr>\n",
       "  </thead>\n",
       "  <tbody>\n",
       "    <tr>\n",
       "      <th>324</th>\n",
       "      <td>В пятницу в торжественной обстановке состоялось открытие последнего участка южной скоростной трассы, связывающей Вену с Италией и Словенией. Этот автобан длиной 370 километров строился более 40 лет. Среди причин столь длительного срока проведения строительных и автодорожных работ - недостатки финансирования и технические сложности, поскольку автобан проходит по участкам Альпийских гор. Не последнее место в этом списке занимают и трудности, связанные с региональными властями, так как трасса проходит по территории нескольких федеральных земель - Нижней Австрии, Бургенланда, Штирии, Каринтии и Вены, а каждая земля имеет свой бюджет и свое дорожное законодательство, сообщает агентство РИА \"Новости\".</td>\n",
       "      <td>1</td>\n",
       "      <td>0</td>\n",
       "    </tr>\n",
       "    <tr>\n",
       "      <th>519</th>\n",
       "      <td>Концерны Time Warner и EMI Group PLC объединяют свои подразделения звукозаписи в корпорацию Warner EMI Music. Эта корпорация займет одно из первых мест на мировом музыкальном рынке. Она будет владеть правами на распространение альбомов таких звезд, как Мадонна, Spice Girls, Metallica, REM  и других, вплоть до легендарных теперь уже записей Beatles. При оценке стоимости сделки называются разные суммы - от 7,5 до 20 миллиардов долларов, сообщает информационная служба ВВС. Как сообщает агентство Associated Press, обе компании будут в равной степени контролировать новое объединение, владея 50 процентами акций фирмы. Ожидается, что официальное объявление о создании нового гиганта звукозаписи состоится 24 января в Лондоне. Напомним, что две недели назад было объявлено о слиянии Time Warner и корпорации America Online, которая лидирует в области услуг доступа в Интернет. Судя по всему, теперь коммерческое распространение звукозаписей будет осуществляться через глобальную компьютерную сеть.</td>\n",
       "      <td>1</td>\n",
       "      <td>0</td>\n",
       "    </tr>\n",
       "    <tr>\n",
       "      <th>668</th>\n",
       "      <td>Во втором круге проходящего в голландском Роттердаме мужского турнира ATP с призовым фондом 850 тысяч долларов россиянин Евгений Кафельников победил француза Николя Эскюде - 6:3, 6:3. Если главный фаворит турнира в Роттердаме - Кафельников - практически не имел проблем в этой встрече, то немец Николас Кифер в поединке того же круга с чехом Иржи Новаком столкнулся с рядом трудностей. Тем не менее, матч завершился в пользу Кифера со счетом 5:7, 6:2, 7:6, 7:3. В еще одной встрече француз Жером Гольмар нанес поражение голландцу Яну Симеринку - 6:4, 7:6, 7:4.</td>\n",
       "      <td>0</td>\n",
       "      <td>1</td>\n",
       "    </tr>\n",
       "    <tr>\n",
       "      <th>676</th>\n",
       "      <td>Футбольная лига Азербайджана в понедельник была дисквалифицирована на неопределенный срок. Столь суровая санкция стала следствием скандала, произошедшего накануне, когда 11 из 12 футбольных клубов страны отказались играть (национальный чемпионат должен был возобновиться после зимней паузы). Между тем представители этих клубов еще на прошлой неделе заявили, что они не будут принимать участия ни в кубковых играх, ни в матчах чемпионата до тех пор, пока не разрешатся их разногласия с руководством азербайджанской Федерации футбола. Лишь одна команда (занимающая 9-е место) была готова выйти на поле, но встреча так и не состоялась по причине неявки соперника. Напомним, что в начале февраля Азербайджан лишь в самую последнюю минуту избежал дисквалификации ФИФА, пообещав мирно уладить вышеупомянутый конфликт. Но, как видно, этого не произошло. Представители клубов отказываются участвовать в чемпионате до перевыборов руководителя национальной федерации (нынешний ее глава Фуад Мусаев их категорически не устраивает), которые пройдут в начале апреля. Начало сезона, кстати, также было скомкано - в первом круге первенства команды сыграли только 7 туров.</td>\n",
       "      <td>0</td>\n",
       "      <td>1</td>\n",
       "    </tr>\n",
       "    <tr>\n",
       "      <th>684</th>\n",
       "      <td>В центральном матче второго круга чемпионата \"Манчестер Юнайтед\" сумел добиться победы на поле своего основного конкурента \"Лидса\", и увеличил отрыв от преследователя до 6 очков. В составе манкунианцев отличился Энди Коул, который забил свой 16-й гол в чемпионате. \"Манчестер\" одержал победу без одного из своих лидеров Дэвида Бекхэма, которого накануне главный тренер команды Алекс Фергюсон не пустил на тренировочную базу за пропуск предыдущей тренировки. До конца встречи не доиграл еще один игрок \"МЮ\": Дуайт Йорк получил травму на 29-й минуте. У \"МЮ\" стало 56 очков после 25 туров, а у \"Лидса\" осталось 50. На третьем месте идет \"Ливерпуль\" - 47 очков, на четвертом - \"Арсенал\" (44 очка). Что касается Бекхэма, то на него наложен штраф в 50 тысяч фунтов, что эквивалентно сумме его двухнедельной зарплаты.</td>\n",
       "      <td>0</td>\n",
       "      <td>1</td>\n",
       "    </tr>\n",
       "    <tr>\n",
       "      <th>725</th>\n",
       "      <td>Датчанин Рихард Нильсен, в свое время сенсационно приведший своих соотечественников к золотым медалям чемпионата Европы-92, обеспечил в среду именно тот результат, которого так ждали все болельщики израильского футбола, обиженные осенью поражением своих любимцев от команды Дании в заключительных отборочных матчах ЧЕ-2000 с общим счетом 0:8.  В роли мальчиков для битья выступила сборная России. С самого начала матча израильская сборная выглядела более собранной и энергичной. Плоды не заставили себя долго ждать. Уже на третьей минуте встречи Валид Бадир из \"Уимблдона\" замкнул головой навес справа Офера Талькара и поразил ворота Станислава Черчесова. Пропущенный гол, однако, нисколько не оживил игру гостей. Россияне почти не создавали опасных ситуаций у ворот израильского вратаря Рафи Коэна, вернувшегося в главную команду страны после годичного отсутствия. На 16-й минуте хозяева упрочили свое преимущество, когда дебютант сборной Кфир Уди воспользовался ошибкой в обороне Виктора Онопко, переиграл Черчесова и забил второй гол. На 35-й минуте благодаря усилиям все того же Бадира счет стал уже 3:0. Пытаясь вынести мяч подальше от своих ворот, российский защитник послал мяч прямо ему в ноги и он ударом с 20 метров занес его в сетку. Во втором тайме россияне сумели отыграть один мяч - пенальти на 58-й минуте реализовал Владимир Бесчастных. На 65-й минуте был забит и второй гол, но судья не засчитал его из-за офсайда. А уже в самом конце встречи Ави Нимни забил четвертый гол в ворота россиян. Помощник главного тренера российской команды Михаил Гершкович признал, что поражение было заслуженным: \"Мы должны винить только самих себя. Тут все виноваты: и игроки, и тренерский штаб. Мы смотрелись очень жалко и результат отражает то, что происходило на поле...\"</td>\n",
       "      <td>0</td>\n",
       "      <td>1</td>\n",
       "    </tr>\n",
       "    <tr>\n",
       "      <th>735</th>\n",
       "      <td>Международная федерация хоккея с шайбой провела консультации со своим коммерческим партнером, фирмой CWL Holding AG, результатом которых стало решение не проводить в следующем сезоне (2000/2001) розыгрыша хоккейной Евролиги. Несмотря на существенные спонсорские инвестиции и растущую год от года популярность этого турнира в среде журналистов и болельщиков, телеосвещение Евролиги на территории стран-участниц было признано неудовлетворительным. К сезону 2001/2002 годов IIHF надеется успеть исправить положение, договорившись обо всем с европейскими телекомпаниями. А следующей зимой Федерация организует вместо Евролиги другой международный клубный турнир - в традициях прежнего Кубка Европы.</td>\n",
       "      <td>0</td>\n",
       "      <td>1</td>\n",
       "    </tr>\n",
       "    <tr>\n",
       "      <th>744</th>\n",
       "      <td>29-летний нападающий английской сборной и \"Ньюкасла\" Алан Ширер известил болельщиков о весьма неожиданном решении. Он намерен вскоре покинуть сборную. \"Я много думал и решил уйти с международной арены, - сказал Алан журналистам Reuters. - Если я попаду в сборную на Евро-2000, я сыграю там, а потом уйду, чтобы главный тренер мог спокойно готовиться к чемпионату мира-2002\". Тем не менее, причины своего ухода из сборной Ширер не назвал. Футболист уже разговаривал с наставниками \"Ньюкасла\" Бобби Робсоном и сборной страны Кевином Киганом, и оба отнеслись к этому известию с пониманием.  \"Я, конечно, очень разочарован, - сказал Киган, - и я пытался заставить его передумать. Но надо уважать его мнение. Я очень рад за него, так как это именно то, чего он хочет. Его достижение (Ширер забил 28 мячей в играх за сборную Англии, только шестеро отличались больше) говорит само за себя, но оно еще и может быть улучшено на Евро-2000\". Робсон отметил прежде всего то, что Ширер исходил изсобственных интересов и \"это на данный момент для него лучшеерешение. Он хорошо поработал на славу Англии и мечтал уйти смеждународной арены на пике формы. \"Ньюкасл\" же от этого только выиграет\".</td>\n",
       "      <td>0</td>\n",
       "      <td>1</td>\n",
       "    </tr>\n",
       "    <tr>\n",
       "      <th>785</th>\n",
       "      <td>Согласно подписанному на три года соглашению, на протяжении этого срока на форме москвичей будет красоваться логотип \"ЛУКойла\". Главный тренер \"Спартака\" Олег Романцев не стал скрывать удовлетворение от сделки,  заметив, что \"ЛУКойл сделал самое привлекательное предложение, которое оказалось даже интереснее, чем предложения ряда иностранных компаний\". Напомним, что недавно московское \"Динамо\" также заключило контракт с крупным российским производителем. Генеральным спонсором \"Динамо\" будет производитель ядерного топлива \"ТВЭЛ\".</td>\n",
       "      <td>0</td>\n",
       "      <td>1</td>\n",
       "    </tr>\n",
       "    <tr>\n",
       "      <th>796</th>\n",
       "      <td>По данным Lenta.Ru, издательство \"Захаров\" стало частью холдинга \"Медиа-Мост\". Как ожидается, официальное сообщение об этом появится в ближайшее время. \"Захаров\" специализируется в основном на выпуске \"стильных детективов\" Б. Акунина (Григория Чхартишвили). В 1999 году в издательстве вышел сборник воспоминаний Фаины Раневской. В начале марта в продажу поступит ранний вариант романа Льва Толстого \"Война и мир\". Его отличает несколько меньший объем, а кроме того, в этом варианте романа Андрей Болконский и Петя Ростов останутся живы.</td>\n",
       "      <td>1</td>\n",
       "      <td>0</td>\n",
       "    </tr>\n",
       "    <tr>\n",
       "      <th>808</th>\n",
       "      <td>Баскетболисты российского клуба ЦСКА во втором матче 1/8 финала Евролиги вЗагребе выиграли у хорватской команды \"Цибона\" со счетом 75:55 (31:33).Третий, решающий матч серии до двух побед состоится 9 марта вМоскве. Напомним, что в первой встрече армейцы уступили - 72:75,хотя по ходу первого тайма вели в счете с разницей в 21 очко. Перед матчем вЗагребе большинство специалистов безоговорочно отдавали победухозяевам площадки, однако россияне опровергли все пессимистичныепрогнозы. Первые два очка в матче набрал Кириленко - 2:0 в пользуроссиян. Счет сравнял Пркачин, после чего армейцам пришлосьдогонять соперника - 10:4 в пользу \"Цибоны\" после фола в защитеКарасева и эффектного слэм-данка Пркачина на пятой минуте.На шестой минуте Гиричек реализовал трехочковый бросок - 13:8.Затем последовали штрафные Пркачина и слэм-данк Кириленко - 15:10.Трехочковый Дайнеко сократил разрыв в счете на восьмой минуте -17:13, а на четырнадцатой - второй \"трехочковый\" Дайнеко уменьшилпреимущество \"Цибоны\" - 21:18. За три минуты до свистка наперерыв после штрафных Куделина ЦСКА почти догнал хорватов -23:22. Однако очередной слэм-данк Пркачина вновь вывел вперед\"Цибону\" - 27:23. Серия точных штрафных Карасева позволила ЦСКАсократить отрыв до трех очков - 30:27, однако в самом концетайма дальним броском Сесар вывел свою команду вперед - 33:31.Но в конечном итоге инициатива перешла к гостям, которыеодержали заслуженную победу.</td>\n",
       "      <td>0</td>\n",
       "      <td>1</td>\n",
       "    </tr>\n",
       "    <tr>\n",
       "      <th>859</th>\n",
       "      <td>Бывший главный тренер сборной России Павел Садырин дал свое согласие возглавить команду Узбекистана. \"Официально контракт еще не подписан, но в принципе Садырин не возражает, - заявил сегодня генеральный секретарь узбекской футбольной федерации Виктор Тихонов. - В начале следующей недели мы надеемся уладить все формальности\". Садырин придет на смену Махмуду Рахимову, который погиб в минувшем декабре в автокатастрофе. Под началом Садырина команда примет участие в чемпионате Азии 2000 года в Ливане. Напомним, что в 1994 году Садырин вывел сборную России в финальную стадию мирового первенства, но вскоре был уволен, так как россияне в Америке даже не смогли выйти из группы. Садырин также известен тем, что в 1991 году сделал московских армейцев последними чемпионами СССР по футболу. С тех пор он руководил несколько российскими клубами, но не очень удачно. По итогам прошлого сезона он был уволен из казанского \"Рубина\".</td>\n",
       "      <td>0</td>\n",
       "      <td>1</td>\n",
       "    </tr>\n",
       "    <tr>\n",
       "      <th>932</th>\n",
       "      <td>С 1 апреля билеты на чемпионат мира по хоккею, который пройдет в Петербурге с 28 апреля по 14 мая поступят в свободную продажу. Однако, будут ли они пользоваться спросом большой вопрос. Ведь не исключено, что цены на них будут запредельными для большинства потенциальных болельщиков. По настоянию Международной Федерации хоккея стоимость одной - самой дешевой  \"проходки\" будет равна 326 рублям. Для иностранцев сумма эта может и невелика, а вот российские любители хоккея вряд ли согласятся платить подобные деньги. Тем более, что за такую сумму можно будет посмотреть лишь \"интереснейшую\" игру сборных Японии, Австрии или Италии. Правда, различные организации уже подали заявки примерно треть из 546 тысяч билетов на матчи чемпионата - в основном на игры плей-офф. До 20 марта их необходимо выкупить: не оплаченные билеты также поступят в свободную продажу. Но кто их купит?</td>\n",
       "      <td>0</td>\n",
       "      <td>1</td>\n",
       "    </tr>\n",
       "    <tr>\n",
       "      <th>952</th>\n",
       "      <td>Блестящее выступление  Елены Дементьевой на турнире в Индиан-Уэллсе существенно улучшило рейтинг российской теннисистки. 18-летняя спортсменка, занимавшая до турнира в Калифорнии 59-е место в рейтинге WTA, благодаря выходу в полуфинал поднялась сразу на 20 строчек. Теперь в числе 50 лучших теннисных леди оказались сразу четыре россиянки. Анна Курникова замыкает десятку сильнейших (две недели назад она была девятой), Елена Лиховцева, напротив, поднялась на одну ступеньку вверх, с 18-го на 17-е место. Татьяна Панова опустилась на одну строчку: теперь она 43-я ракетка мира. Первая же десятка рейтинг-листа существенных изменений не претерпела. Первой ракеткой мира по прежнему остается Мартина Хингис. А вот американка Линдсей Дэвенпорт, обыгравшая сильнейшую теннисистку планеты в финале турнира в Индиан-Уэллсе, пока на втором месте. Третья позиция у еще одной теннисистки из США - Винус Уильямс; француженка Мари Пьерс, добравшись, как и Дементьева, до полуфинала калифорнийских соревнований, переместилась с шестой позиции на четвертую.</td>\n",
       "      <td>0</td>\n",
       "      <td>1</td>\n",
       "    </tr>\n",
       "    <tr>\n",
       "      <th>960</th>\n",
       "      <td>Считающийся одним из самых одаренных молодых футболистов планеты француз Николя Анелька переживает нелегкие дни. 10 марта он отказался принять участие в тренировке своей команды - мадридского \"Реала\" - и через некоторое время был дисквалифицирован Королевским клубом на полтора месяца. А на этой неделе испанцев поддержали соотечественники Анелька: руководители Французской федерации футбола заявили, что не будут привлекать форварда к матчам национальной сборной. Объявили о суровом решении президент федерации Клод Симоне и тренер чемпионов мира Роже Лемерр. Заметив, что молодой нападающий, игнорируя тренировки, подает дурной пример молодежи, они подчеркнули, что до тех пор, пока Анелька не будет играть в \"Реале\", его не будет и в национальной команде Франции. Напомним, что Анелька был \"куплен\" испанцами у лондонского \"Арсенала\" за 35,7 миллиона долларов. Футболист подписал семилетний контракт, по которому его ежегодная зарплата должна была составить без малого 4 миллиона долларов. Однако форвард даже и не начал оправдывать вложенные в него деньги. Так, в чемпионате Испании он забил пока лишь один гол. Николя явно не вписался в новый коллектив, что признает и он сам, и его партнеры по \"Реалу\". В последние дни Анелька уединился во Франции, где, по свидетельству очевидцев, пытается разогнать тоску, гоняя на своей \"Феррари\". Правда, ближе к концу недели он собирается все-таки вернуться в Испанию и возобновить тренировки в \"Реале\".</td>\n",
       "      <td>0</td>\n",
       "      <td>1</td>\n",
       "    </tr>\n",
       "    <tr>\n",
       "      <th>973</th>\n",
       "      <td>За три дня до старта 9-го чемпионата России по футболу в Саратове и Волгограде были сыграны отложенные матчи одной восьмой  финала Кубка России. В обеих играх с одинаковым счетом 1:0 победили гости. Саратовский \"Сокол\" на заполненном до отказа стадионе \"Локомотив\" принимал семикратных чемпионов России  - московский \"Спартак\". В начале матча волжане играли активнее соперника и создали несколько голевых моментов у ворот Сметанина, заменившего травмированного Филимонова. Спартаковцы, однако, быстро выровняли игру, а затем и завладели преимуществом. Красно-белые показали неплохую физическую форму. Правда, москвичи грешили неточными передачами, но игроки \"Сокола\" ни разу не смогли наказать гостей. Основное время завершилось вничью (0:0), но чувствовалось, что \"Спартак\" вот-вот забьет. И на 8-й минуте дополнительного времени после розыгрыша углового Егор Титов забил единственный в этом матче гол. После этого хозяева несколько раз могли сравнять счет, но удача была не на их стороне. Соперником спартаковцев в четвертьфинале будет подмосковный \"Сатурн\", который  неожиданно выиграл в Волгограде у \"Ротора\" - 1:0. Единственный мяч  в начале второго тайма провел Андрей Мовсесян. Четвертьфинальные матчи Кубка России пройдут 4, 5 и 11 апреля. Кроме пары \"Сатурн\" - \"Спартак\", за выход в полуфинал поспорят липецкий \"Металлург\" и московский \"Локомотив\", \"Анжи\" из Махачкалы и ЦСКА, элистинский \"Уралан\" и столичное \"Динамо\". Обладатель Кубка определится 21 мая.</td>\n",
       "      <td>0</td>\n",
       "      <td>1</td>\n",
       "    </tr>\n",
       "  </tbody>\n",
       "</table>\n",
       "</div>"
      ],
      "text/plain": [
       "                                                                                                                                                                                                                                                                                                                                                                                                                                                                                                                                                                                                                                                                                                                                                                                                                                                                                                                                                                                                                                                                                                                                                                                                                                                                                                                                                                                                                                                                                                                                                                                                                                                                                                                                                                                                                                              text  \\\n",
       "324                                                                                                                                                                                                                                                                                                                                                                                                                                                                                                                                                                                                                                                                                                                                                                                                                                                                                                                                                                                                                                                                                                               В пятницу в торжественной обстановке состоялось открытие последнего участка южной скоростной трассы, связывающей Вену с Италией и Словенией. Этот автобан длиной 370 километров строился более 40 лет. Среди причин столь длительного срока проведения строительных и автодорожных работ - недостатки финансирования и технические сложности, поскольку автобан проходит по участкам Альпийских гор. Не последнее место в этом списке занимают и трудности, связанные с региональными властями, так как трасса проходит по территории нескольких федеральных земель - Нижней Австрии, Бургенланда, Штирии, Каринтии и Вены, а каждая земля имеет свой бюджет и свое дорожное законодательство, сообщает агентство РИА \"Новости\".   \n",
       "519                                                                                                                                                                                                                                                                                                                                                                                                                                                                                                                                                                                                                                                                                                                                                                                                          Концерны Time Warner и EMI Group PLC объединяют свои подразделения звукозаписи в корпорацию Warner EMI Music. Эта корпорация займет одно из первых мест на мировом музыкальном рынке. Она будет владеть правами на распространение альбомов таких звезд, как Мадонна, Spice Girls, Metallica, REM  и других, вплоть до легендарных теперь уже записей Beatles. При оценке стоимости сделки называются разные суммы - от 7,5 до 20 миллиардов долларов, сообщает информационная служба ВВС. Как сообщает агентство Associated Press, обе компании будут в равной степени контролировать новое объединение, владея 50 процентами акций фирмы. Ожидается, что официальное объявление о создании нового гиганта звукозаписи состоится 24 января в Лондоне. Напомним, что две недели назад было объявлено о слиянии Time Warner и корпорации America Online, которая лидирует в области услуг доступа в Интернет. Судя по всему, теперь коммерческое распространение звукозаписей будет осуществляться через глобальную компьютерную сеть.   \n",
       "668                                                                                                                                                                                                                                                                                                                                                                                                                                                                                                                                                                                                                                                                                                                                                                                                                                                                                                                                                                                                                                                                                                                                                                                                                                                               Во втором круге проходящего в голландском Роттердаме мужского турнира ATP с призовым фондом 850 тысяч долларов россиянин Евгений Кафельников победил француза Николя Эскюде - 6:3, 6:3. Если главный фаворит турнира в Роттердаме - Кафельников - практически не имел проблем в этой встрече, то немец Николас Кифер в поединке того же круга с чехом Иржи Новаком столкнулся с рядом трудностей. Тем не менее, матч завершился в пользу Кифера со счетом 5:7, 6:2, 7:6, 7:3. В еще одной встрече француз Жером Гольмар нанес поражение голландцу Яну Симеринку - 6:4, 7:6, 7:4.   \n",
       "676                                                                                                                                                                                                                                                                                                                                                                                                                                                                                                                                                                                                                                          Футбольная лига Азербайджана в понедельник была дисквалифицирована на неопределенный срок. Столь суровая санкция стала следствием скандала, произошедшего накануне, когда 11 из 12 футбольных клубов страны отказались играть (национальный чемпионат должен был возобновиться после зимней паузы). Между тем представители этих клубов еще на прошлой неделе заявили, что они не будут принимать участия ни в кубковых играх, ни в матчах чемпионата до тех пор, пока не разрешатся их разногласия с руководством азербайджанской Федерации футбола. Лишь одна команда (занимающая 9-е место) была готова выйти на поле, но встреча так и не состоялась по причине неявки соперника. Напомним, что в начале февраля Азербайджан лишь в самую последнюю минуту избежал дисквалификации ФИФА, пообещав мирно уладить вышеупомянутый конфликт. Но, как видно, этого не произошло. Представители клубов отказываются участвовать в чемпионате до перевыборов руководителя национальной федерации (нынешний ее глава Фуад Мусаев их категорически не устраивает), которые пройдут в начале апреля. Начало сезона, кстати, также было скомкано - в первом круге первенства команды сыграли только 7 туров.   \n",
       "684                                                                                                                                                                                                                                                                                                                                                                                                                                                                                                                                                                                                                                                                                                                                                                                                                                                                                                                                                                                                     В центральном матче второго круга чемпионата \"Манчестер Юнайтед\" сумел добиться победы на поле своего основного конкурента \"Лидса\", и увеличил отрыв от преследователя до 6 очков. В составе манкунианцев отличился Энди Коул, который забил свой 16-й гол в чемпионате. \"Манчестер\" одержал победу без одного из своих лидеров Дэвида Бекхэма, которого накануне главный тренер команды Алекс Фергюсон не пустил на тренировочную базу за пропуск предыдущей тренировки. До конца встречи не доиграл еще один игрок \"МЮ\": Дуайт Йорк получил травму на 29-й минуте. У \"МЮ\" стало 56 очков после 25 туров, а у \"Лидса\" осталось 50. На третьем месте идет \"Ливерпуль\" - 47 очков, на четвертом - \"Арсенал\" (44 очка). Что касается Бекхэма, то на него наложен штраф в 50 тысяч фунтов, что эквивалентно сумме его двухнедельной зарплаты.   \n",
       "725  Датчанин Рихард Нильсен, в свое время сенсационно приведший своих соотечественников к золотым медалям чемпионата Европы-92, обеспечил в среду именно тот результат, которого так ждали все болельщики израильского футбола, обиженные осенью поражением своих любимцев от команды Дании в заключительных отборочных матчах ЧЕ-2000 с общим счетом 0:8.  В роли мальчиков для битья выступила сборная России. С самого начала матча израильская сборная выглядела более собранной и энергичной. Плоды не заставили себя долго ждать. Уже на третьей минуте встречи Валид Бадир из \"Уимблдона\" замкнул головой навес справа Офера Талькара и поразил ворота Станислава Черчесова. Пропущенный гол, однако, нисколько не оживил игру гостей. Россияне почти не создавали опасных ситуаций у ворот израильского вратаря Рафи Коэна, вернувшегося в главную команду страны после годичного отсутствия. На 16-й минуте хозяева упрочили свое преимущество, когда дебютант сборной Кфир Уди воспользовался ошибкой в обороне Виктора Онопко, переиграл Черчесова и забил второй гол. На 35-й минуте благодаря усилиям все того же Бадира счет стал уже 3:0. Пытаясь вынести мяч подальше от своих ворот, российский защитник послал мяч прямо ему в ноги и он ударом с 20 метров занес его в сетку. Во втором тайме россияне сумели отыграть один мяч - пенальти на 58-й минуте реализовал Владимир Бесчастных. На 65-й минуте был забит и второй гол, но судья не засчитал его из-за офсайда. А уже в самом конце встречи Ави Нимни забил четвертый гол в ворота россиян. Помощник главного тренера российской команды Михаил Гершкович признал, что поражение было заслуженным: \"Мы должны винить только самих себя. Тут все виноваты: и игроки, и тренерский штаб. Мы смотрелись очень жалко и результат отражает то, что происходило на поле...\"   \n",
       "735                                                                                                                                                                                                                                                                                                                                                                                                                                                                                                                                                                                                                                                                                                                                                                                                                                                                                                                                                                                                                                                                                                                         Международная федерация хоккея с шайбой провела консультации со своим коммерческим партнером, фирмой CWL Holding AG, результатом которых стало решение не проводить в следующем сезоне (2000/2001) розыгрыша хоккейной Евролиги. Несмотря на существенные спонсорские инвестиции и растущую год от года популярность этого турнира в среде журналистов и болельщиков, телеосвещение Евролиги на территории стран-участниц было признано неудовлетворительным. К сезону 2001/2002 годов IIHF надеется успеть исправить положение, договорившись обо всем с европейскими телекомпаниями. А следующей зимой Федерация организует вместо Евролиги другой международный клубный турнир - в традициях прежнего Кубка Европы.   \n",
       "744                                                                                                                                                                                                                                                                                                                                                                                                                                                                                                                                                                                                                     29-летний нападающий английской сборной и \"Ньюкасла\" Алан Ширер известил болельщиков о весьма неожиданном решении. Он намерен вскоре покинуть сборную. \"Я много думал и решил уйти с международной арены, - сказал Алан журналистам Reuters. - Если я попаду в сборную на Евро-2000, я сыграю там, а потом уйду, чтобы главный тренер мог спокойно готовиться к чемпионату мира-2002\". Тем не менее, причины своего ухода из сборной Ширер не назвал. Футболист уже разговаривал с наставниками \"Ньюкасла\" Бобби Робсоном и сборной страны Кевином Киганом, и оба отнеслись к этому известию с пониманием.  \"Я, конечно, очень разочарован, - сказал Киган, - и я пытался заставить его передумать. Но надо уважать его мнение. Я очень рад за него, так как это именно то, чего он хочет. Его достижение (Ширер забил 28 мячей в играх за сборную Англии, только шестеро отличались больше) говорит само за себя, но оно еще и может быть улучшено на Евро-2000\". Робсон отметил прежде всего то, что Ширер исходил изсобственных интересов и \"это на данный момент для него лучшеерешение. Он хорошо поработал на славу Англии и мечтал уйти смеждународной арены на пике формы. \"Ньюкасл\" же от этого только выиграет\".   \n",
       "785                                                                                                                                                                                                                                                                                                                                                                                                                                                                                                                                                                                                                                                                                                                                                                                                                                                                                                                                                                                                                                                                                                                                                                                                                                                                                          Согласно подписанному на три года соглашению, на протяжении этого срока на форме москвичей будет красоваться логотип \"ЛУКойла\". Главный тренер \"Спартака\" Олег Романцев не стал скрывать удовлетворение от сделки,  заметив, что \"ЛУКойл сделал самое привлекательное предложение, которое оказалось даже интереснее, чем предложения ряда иностранных компаний\". Напомним, что недавно московское \"Динамо\" также заключило контракт с крупным российским производителем. Генеральным спонсором \"Динамо\" будет производитель ядерного топлива \"ТВЭЛ\".   \n",
       "796                                                                                                                                                                                                                                                                                                                                                                                                                                                                                                                                                                                                                                                                                                                                                                                                                                                                                                                                                                                                                                                                                                                                                                                                                                                                                       По данным Lenta.Ru, издательство \"Захаров\" стало частью холдинга \"Медиа-Мост\". Как ожидается, официальное сообщение об этом появится в ближайшее время. \"Захаров\" специализируется в основном на выпуске \"стильных детективов\" Б. Акунина (Григория Чхартишвили). В 1999 году в издательстве вышел сборник воспоминаний Фаины Раневской. В начале марта в продажу поступит ранний вариант романа Льва Толстого \"Война и мир\". Его отличает несколько меньший объем, а кроме того, в этом варианте романа Андрей Болконский и Петя Ростов останутся живы.   \n",
       "808                                                                                                                                                                                                                                                                                                                                                                   Баскетболисты российского клуба ЦСКА во втором матче 1/8 финала Евролиги вЗагребе выиграли у хорватской команды \"Цибона\" со счетом 75:55 (31:33).Третий, решающий матч серии до двух побед состоится 9 марта вМоскве. Напомним, что в первой встрече армейцы уступили - 72:75,хотя по ходу первого тайма вели в счете с разницей в 21 очко. Перед матчем вЗагребе большинство специалистов безоговорочно отдавали победухозяевам площадки, однако россияне опровергли все пессимистичныепрогнозы. Первые два очка в матче набрал Кириленко - 2:0 в пользуроссиян. Счет сравнял Пркачин, после чего армейцам пришлосьдогонять соперника - 10:4 в пользу \"Цибоны\" после фола в защитеКарасева и эффектного слэм-данка Пркачина на пятой минуте.На шестой минуте Гиричек реализовал трехочковый бросок - 13:8.Затем последовали штрафные Пркачина и слэм-данк Кириленко - 15:10.Трехочковый Дайнеко сократил разрыв в счете на восьмой минуте -17:13, а на четырнадцатой - второй \"трехочковый\" Дайнеко уменьшилпреимущество \"Цибоны\" - 21:18. За три минуты до свистка наперерыв после штрафных Куделина ЦСКА почти догнал хорватов -23:22. Однако очередной слэм-данк Пркачина вновь вывел вперед\"Цибону\" - 27:23. Серия точных штрафных Карасева позволила ЦСКАсократить отрыв до трех очков - 30:27, однако в самом концетайма дальним броском Сесар вывел свою команду вперед - 33:31.Но в конечном итоге инициатива перешла к гостям, которыеодержали заслуженную победу.   \n",
       "859                                                                                                                                                                                                                                                                                                                                                                                                                                                                                                                                                                                                                                                                                                                                                                                                                                                                                 Бывший главный тренер сборной России Павел Садырин дал свое согласие возглавить команду Узбекистана. \"Официально контракт еще не подписан, но в принципе Садырин не возражает, - заявил сегодня генеральный секретарь узбекской футбольной федерации Виктор Тихонов. - В начале следующей недели мы надеемся уладить все формальности\". Садырин придет на смену Махмуду Рахимову, который погиб в минувшем декабре в автокатастрофе. Под началом Садырина команда примет участие в чемпионате Азии 2000 года в Ливане. Напомним, что в 1994 году Садырин вывел сборную России в финальную стадию мирового первенства, но вскоре был уволен, так как россияне в Америке даже не смогли выйти из группы. Садырин также известен тем, что в 1991 году сделал московских армейцев последними чемпионами СССР по футболу. С тех пор он руководил несколько российскими клубами, но не очень удачно. По итогам прошлого сезона он был уволен из казанского \"Рубина\".   \n",
       "932                                                                                                                                                                                                                                                                                                                                                                                                                                                                                                                                                                                                                                                                                                                                                                                                                                                                                                                                   С 1 апреля билеты на чемпионат мира по хоккею, который пройдет в Петербурге с 28 апреля по 14 мая поступят в свободную продажу. Однако, будут ли они пользоваться спросом большой вопрос. Ведь не исключено, что цены на них будут запредельными для большинства потенциальных болельщиков. По настоянию Международной Федерации хоккея стоимость одной - самой дешевой  \"проходки\" будет равна 326 рублям. Для иностранцев сумма эта может и невелика, а вот российские любители хоккея вряд ли согласятся платить подобные деньги. Тем более, что за такую сумму можно будет посмотреть лишь \"интереснейшую\" игру сборных Японии, Австрии или Италии. Правда, различные организации уже подали заявки примерно треть из 546 тысяч билетов на матчи чемпионата - в основном на игры плей-офф. До 20 марта их необходимо выкупить: не оплаченные билеты также поступят в свободную продажу. Но кто их купит?   \n",
       "952                                                                                                                                                                                                                                                                                                                                                                                                                                                                                                                                                                                                                                                                                                                                                           Блестящее выступление  Елены Дементьевой на турнире в Индиан-Уэллсе существенно улучшило рейтинг российской теннисистки. 18-летняя спортсменка, занимавшая до турнира в Калифорнии 59-е место в рейтинге WTA, благодаря выходу в полуфинал поднялась сразу на 20 строчек. Теперь в числе 50 лучших теннисных леди оказались сразу четыре россиянки. Анна Курникова замыкает десятку сильнейших (две недели назад она была девятой), Елена Лиховцева, напротив, поднялась на одну ступеньку вверх, с 18-го на 17-е место. Татьяна Панова опустилась на одну строчку: теперь она 43-я ракетка мира. Первая же десятка рейтинг-листа существенных изменений не претерпела. Первой ракеткой мира по прежнему остается Мартина Хингис. А вот американка Линдсей Дэвенпорт, обыгравшая сильнейшую теннисистку планеты в финале турнира в Индиан-Уэллсе, пока на втором месте. Третья позиция у еще одной теннисистки из США - Винус Уильямс; француженка Мари Пьерс, добравшись, как и Дементьева, до полуфинала калифорнийских соревнований, переместилась с шестой позиции на четвертую.   \n",
       "960                                                                                                                                                                                                                                                                                                                                        Считающийся одним из самых одаренных молодых футболистов планеты француз Николя Анелька переживает нелегкие дни. 10 марта он отказался принять участие в тренировке своей команды - мадридского \"Реала\" - и через некоторое время был дисквалифицирован Королевским клубом на полтора месяца. А на этой неделе испанцев поддержали соотечественники Анелька: руководители Французской федерации футбола заявили, что не будут привлекать форварда к матчам национальной сборной. Объявили о суровом решении президент федерации Клод Симоне и тренер чемпионов мира Роже Лемерр. Заметив, что молодой нападающий, игнорируя тренировки, подает дурной пример молодежи, они подчеркнули, что до тех пор, пока Анелька не будет играть в \"Реале\", его не будет и в национальной команде Франции. Напомним, что Анелька был \"куплен\" испанцами у лондонского \"Арсенала\" за 35,7 миллиона долларов. Футболист подписал семилетний контракт, по которому его ежегодная зарплата должна была составить без малого 4 миллиона долларов. Однако форвард даже и не начал оправдывать вложенные в него деньги. Так, в чемпионате Испании он забил пока лишь один гол. Николя явно не вписался в новый коллектив, что признает и он сам, и его партнеры по \"Реалу\". В последние дни Анелька уединился во Франции, где, по свидетельству очевидцев, пытается разогнать тоску, гоняя на своей \"Феррари\". Правда, ближе к концу недели он собирается все-таки вернуться в Испанию и возобновить тренировки в \"Реале\".   \n",
       "973                                                                                                                                                                                                                                                                                                                      За три дня до старта 9-го чемпионата России по футболу в Саратове и Волгограде были сыграны отложенные матчи одной восьмой  финала Кубка России. В обеих играх с одинаковым счетом 1:0 победили гости. Саратовский \"Сокол\" на заполненном до отказа стадионе \"Локомотив\" принимал семикратных чемпионов России  - московский \"Спартак\". В начале матча волжане играли активнее соперника и создали несколько голевых моментов у ворот Сметанина, заменившего травмированного Филимонова. Спартаковцы, однако, быстро выровняли игру, а затем и завладели преимуществом. Красно-белые показали неплохую физическую форму. Правда, москвичи грешили неточными передачами, но игроки \"Сокола\" ни разу не смогли наказать гостей. Основное время завершилось вничью (0:0), но чувствовалось, что \"Спартак\" вот-вот забьет. И на 8-й минуте дополнительного времени после розыгрыша углового Егор Титов забил единственный в этом матче гол. После этого хозяева несколько раз могли сравнять счет, но удача была не на их стороне. Соперником спартаковцев в четвертьфинале будет подмосковный \"Сатурн\", который  неожиданно выиграл в Волгограде у \"Ротора\" - 1:0. Единственный мяч  в начале второго тайма провел Андрей Мовсесян. Четвертьфинальные матчи Кубка России пройдут 4, 5 и 11 апреля. Кроме пары \"Сатурн\" - \"Спартак\", за выход в полуфинал поспорят липецкий \"Металлург\" и московский \"Локомотив\", \"Анжи\" из Махачкалы и ЦСКА, элистинский \"Уралан\" и столичное \"Динамо\". Обладатель Кубка определится 21 мая.   \n",
       "\n",
       "     target  predicted  \n",
       "324       1          0  \n",
       "519       1          0  \n",
       "668       0          1  \n",
       "676       0          1  \n",
       "684       0          1  \n",
       "725       0          1  \n",
       "735       0          1  \n",
       "744       0          1  \n",
       "785       0          1  \n",
       "796       1          0  \n",
       "808       0          1  \n",
       "859       0          1  \n",
       "932       0          1  \n",
       "952       0          1  \n",
       "960       0          1  \n",
       "973       0          1  "
      ]
     },
     "execution_count": 60,
     "metadata": {},
     "output_type": "execute_result"
    }
   ],
   "source": [
    "errors_df"
   ]
  },
  {
   "cell_type": "markdown",
   "metadata": {},
   "source": [
    "Можно предположить, что модель ошиблась в этих строках из-за: \n",
    "  - **Неоднозначное значение текста.** Здесь, я подоразумеваю, что текст многогранный иможно отнести его к нескольким типам, как в строке 324. Мне кажется, что данную строку можно отнести и к новостяи про спорт, поэтому модель ошибилась.\n",
    "  - **Отсутствие/присутвие явных ключевых слов.** Например, в строке 932 есть ключевые слова, которые можно отнести к экономике \"продажу\",\"стоимость\", \"сумма\", \"546 тысяч\". Мне кажетс модель могла ошибиться именно из-за большего количество слов, которые относятся к экономике "
   ]
  },
  {
   "cell_type": "markdown",
   "metadata": {},
   "source": [
    "    4.3.Усовершенствуйте классификатор, чтобы он осуществлял многоклассовую классификацию (классы «Культура», «Спорт», «Экономика»). Подсказка: скорректируйте размерность выходного слоя, используйте torch.nn.CrossEntropyLoss при обучении и torch.nn.Softmax при формировании предсказаний.\n",
    "\n",
    "    Задание решено в другом блокноте"
   ]
  }
 ],
 "metadata": {
  "kernelspec": {
   "display_name": "Python 3",
   "language": "python",
   "name": "python3"
  },
  "language_info": {
   "codemirror_mode": {
    "name": "ipython",
    "version": 3
   },
   "file_extension": ".py",
   "mimetype": "text/x-python",
   "name": "python",
   "nbconvert_exporter": "python",
   "pygments_lexer": "ipython3",
   "version": "3.10.2"
  }
 },
 "nbformat": 4,
 "nbformat_minor": 2
}
